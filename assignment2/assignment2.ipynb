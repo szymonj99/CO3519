{
 "cells": [
  {
   "cell_type": "markdown",
   "id": "7fc3e372",
   "metadata": {},
   "source": [
    "# Skin Cancer Classification\n",
    "Note: The files used here are not attached to this repository."
   ]
  },
  {
   "cell_type": "code",
   "execution_count": 111,
   "id": "719f33ce",
   "metadata": {
    "tags": []
   },
   "outputs": [
    {
     "name": "stdout",
     "output_type": "stream",
     "text": [
      "Requirement already satisfied: imblearn in /opt/conda/lib/python3.10/site-packages (0.0)\n",
      "Requirement already satisfied: keras-tuner in /opt/conda/lib/python3.10/site-packages (1.3.4)\n",
      "Requirement already satisfied: opencv-python in /opt/conda/lib/python3.10/site-packages (4.7.0.72)\n",
      "Requirement already satisfied: imbalanced-learn in /opt/conda/lib/python3.10/site-packages (from imblearn) (0.10.1)\n",
      "Requirement already satisfied: tensorflow>=2.0 in /opt/conda/lib/python3.10/site-packages (from keras-tuner) (2.10.1)\n",
      "Requirement already satisfied: kt-legacy in /opt/conda/lib/python3.10/site-packages (from keras-tuner) (1.0.4)\n",
      "Requirement already satisfied: requests in /opt/conda/lib/python3.10/site-packages (from keras-tuner) (2.28.2)\n",
      "Requirement already satisfied: packaging in /opt/conda/lib/python3.10/site-packages (from keras-tuner) (23.0)\n",
      "Requirement already satisfied: protobuf<=3.20.3 in /opt/conda/lib/python3.10/site-packages (from keras-tuner) (3.19.6)\n",
      "Requirement already satisfied: numpy>=1.17.0 in /opt/conda/lib/python3.10/site-packages (from opencv-python) (1.23.5)\n",
      "Requirement already satisfied: typing-extensions>=3.6.6 in /opt/conda/lib/python3.10/site-packages (from tensorflow>=2.0->keras-tuner) (4.5.0)\n",
      "Requirement already satisfied: google-pasta>=0.1.1 in /opt/conda/lib/python3.10/site-packages (from tensorflow>=2.0->keras-tuner) (0.2.0)\n",
      "Requirement already satisfied: keras<2.11,>=2.10.0 in /opt/conda/lib/python3.10/site-packages (from tensorflow>=2.0->keras-tuner) (2.10.0)\n",
      "Requirement already satisfied: absl-py>=1.0.0 in /opt/conda/lib/python3.10/site-packages (from tensorflow>=2.0->keras-tuner) (1.4.0)\n",
      "Requirement already satisfied: h5py>=2.9.0 in /opt/conda/lib/python3.10/site-packages (from tensorflow>=2.0->keras-tuner) (3.8.0)\n",
      "Requirement already satisfied: gast<=0.4.0,>=0.2.1 in /opt/conda/lib/python3.10/site-packages (from tensorflow>=2.0->keras-tuner) (0.4.0)\n",
      "Requirement already satisfied: keras-preprocessing>=1.1.1 in /opt/conda/lib/python3.10/site-packages (from tensorflow>=2.0->keras-tuner) (1.1.2)\n",
      "Requirement already satisfied: flatbuffers>=2.0 in /opt/conda/lib/python3.10/site-packages (from tensorflow>=2.0->keras-tuner) (23.3.3)\n",
      "Requirement already satisfied: setuptools in /opt/conda/lib/python3.10/site-packages (from tensorflow>=2.0->keras-tuner) (67.6.1)\n",
      "Requirement already satisfied: six>=1.12.0 in /opt/conda/lib/python3.10/site-packages (from tensorflow>=2.0->keras-tuner) (1.16.0)\n",
      "Requirement already satisfied: tensorflow-estimator<2.11,>=2.10.0 in /opt/conda/lib/python3.10/site-packages (from tensorflow>=2.0->keras-tuner) (2.10.0)\n",
      "Requirement already satisfied: wrapt>=1.11.0 in /opt/conda/lib/python3.10/site-packages (from tensorflow>=2.0->keras-tuner) (1.15.0)\n",
      "Requirement already satisfied: termcolor>=1.1.0 in /opt/conda/lib/python3.10/site-packages (from tensorflow>=2.0->keras-tuner) (2.2.0)\n",
      "Requirement already satisfied: tensorboard<2.11,>=2.10 in /opt/conda/lib/python3.10/site-packages (from tensorflow>=2.0->keras-tuner) (2.10.1)\n",
      "Requirement already satisfied: grpcio<2.0,>=1.24.3 in /opt/conda/lib/python3.10/site-packages (from tensorflow>=2.0->keras-tuner) (1.53.0)\n",
      "Requirement already satisfied: opt-einsum>=2.3.2 in /opt/conda/lib/python3.10/site-packages (from tensorflow>=2.0->keras-tuner) (3.3.0)\n",
      "Requirement already satisfied: tensorflow-io-gcs-filesystem>=0.23.1 in /opt/conda/lib/python3.10/site-packages (from tensorflow>=2.0->keras-tuner) (0.32.0)\n",
      "Requirement already satisfied: libclang>=13.0.0 in /opt/conda/lib/python3.10/site-packages (from tensorflow>=2.0->keras-tuner) (16.0.0)\n",
      "Requirement already satisfied: astunparse>=1.6.0 in /opt/conda/lib/python3.10/site-packages (from tensorflow>=2.0->keras-tuner) (1.6.3)\n",
      "Requirement already satisfied: scikit-learn>=1.0.2 in /opt/conda/lib/python3.10/site-packages (from imbalanced-learn->imblearn) (1.2.2)\n",
      "Requirement already satisfied: scipy>=1.3.2 in /opt/conda/lib/python3.10/site-packages (from imbalanced-learn->imblearn) (1.10.1)\n",
      "Requirement already satisfied: threadpoolctl>=2.0.0 in /opt/conda/lib/python3.10/site-packages (from imbalanced-learn->imblearn) (3.1.0)\n",
      "Requirement already satisfied: joblib>=1.1.1 in /opt/conda/lib/python3.10/site-packages (from imbalanced-learn->imblearn) (1.2.0)\n",
      "Requirement already satisfied: urllib3<1.27,>=1.21.1 in /opt/conda/lib/python3.10/site-packages (from requests->keras-tuner) (1.26.15)\n",
      "Requirement already satisfied: charset-normalizer<4,>=2 in /opt/conda/lib/python3.10/site-packages (from requests->keras-tuner) (3.1.0)\n",
      "Requirement already satisfied: certifi>=2017.4.17 in /opt/conda/lib/python3.10/site-packages (from requests->keras-tuner) (2022.12.7)\n",
      "Requirement already satisfied: idna<4,>=2.5 in /opt/conda/lib/python3.10/site-packages (from requests->keras-tuner) (3.4)\n",
      "Requirement already satisfied: wheel<1.0,>=0.23.0 in /opt/conda/lib/python3.10/site-packages (from astunparse>=1.6.0->tensorflow>=2.0->keras-tuner) (0.40.0)\n",
      "Requirement already satisfied: google-auth<3,>=1.6.3 in /opt/conda/lib/python3.10/site-packages (from tensorboard<2.11,>=2.10->tensorflow>=2.0->keras-tuner) (2.17.1)\n",
      "Requirement already satisfied: markdown>=2.6.8 in /opt/conda/lib/python3.10/site-packages (from tensorboard<2.11,>=2.10->tensorflow>=2.0->keras-tuner) (3.4.3)\n",
      "Requirement already satisfied: werkzeug>=1.0.1 in /opt/conda/lib/python3.10/site-packages (from tensorboard<2.11,>=2.10->tensorflow>=2.0->keras-tuner) (2.2.3)\n",
      "Requirement already satisfied: google-auth-oauthlib<0.5,>=0.4.1 in /opt/conda/lib/python3.10/site-packages (from tensorboard<2.11,>=2.10->tensorflow>=2.0->keras-tuner) (0.4.6)\n",
      "Requirement already satisfied: tensorboard-plugin-wit>=1.6.0 in /opt/conda/lib/python3.10/site-packages (from tensorboard<2.11,>=2.10->tensorflow>=2.0->keras-tuner) (1.8.1)\n",
      "Requirement already satisfied: tensorboard-data-server<0.7.0,>=0.6.0 in /opt/conda/lib/python3.10/site-packages (from tensorboard<2.11,>=2.10->tensorflow>=2.0->keras-tuner) (0.6.1)\n",
      "Requirement already satisfied: rsa<5,>=3.1.4 in /opt/conda/lib/python3.10/site-packages (from google-auth<3,>=1.6.3->tensorboard<2.11,>=2.10->tensorflow>=2.0->keras-tuner) (4.9)\n",
      "Requirement already satisfied: cachetools<6.0,>=2.0.0 in /opt/conda/lib/python3.10/site-packages (from google-auth<3,>=1.6.3->tensorboard<2.11,>=2.10->tensorflow>=2.0->keras-tuner) (5.3.0)\n",
      "Requirement already satisfied: pyasn1-modules>=0.2.1 in /opt/conda/lib/python3.10/site-packages (from google-auth<3,>=1.6.3->tensorboard<2.11,>=2.10->tensorflow>=2.0->keras-tuner) (0.2.8)\n",
      "Requirement already satisfied: requests-oauthlib>=0.7.0 in /opt/conda/lib/python3.10/site-packages (from google-auth-oauthlib<0.5,>=0.4.1->tensorboard<2.11,>=2.10->tensorflow>=2.0->keras-tuner) (1.3.1)\n",
      "Requirement already satisfied: MarkupSafe>=2.1.1 in /opt/conda/lib/python3.10/site-packages (from werkzeug>=1.0.1->tensorboard<2.11,>=2.10->tensorflow>=2.0->keras-tuner) (2.1.2)\n",
      "Requirement already satisfied: pyasn1<0.5.0,>=0.4.6 in /opt/conda/lib/python3.10/site-packages (from pyasn1-modules>=0.2.1->google-auth<3,>=1.6.3->tensorboard<2.11,>=2.10->tensorflow>=2.0->keras-tuner) (0.4.8)\n",
      "Requirement already satisfied: oauthlib>=3.0.0 in /opt/conda/lib/python3.10/site-packages (from requests-oauthlib>=0.7.0->google-auth-oauthlib<0.5,>=0.4.1->tensorboard<2.11,>=2.10->tensorflow>=2.0->keras-tuner) (3.2.2)\n",
      "Num GPUs Available:  1\n"
     ]
    }
   ],
   "source": [
    "# Load libraries\n",
    "!pip install imblearn keras-tuner opencv-python\n",
    "from tensorflow import keras\n",
    "import pandas as pd\n",
    "import numpy as np\n",
    "from matplotlib import pyplot as plt\n",
    "import seaborn as sns\n",
    "from sklearn.metrics import f1_score\n",
    "from tensorflow.keras.models import Sequential\n",
    "from tensorflow.keras.layers import Dense\n",
    "from tensorflow.keras.wrappers.scikit_learn import KerasClassifier\n",
    "from tensorflow.keras.preprocessing.image import ImageDataGenerator\n",
    "from imblearn.under_sampling import RandomUnderSampler\n",
    "from tensorflow.keras.utils import Sequence\n",
    "from tensorflow.keras.models import Model\n",
    "from tensorflow.keras.layers import Input, Dense, Conv2D, MaxPooling2D, Flatten, concatenate, Dropout, GlobalAveragePooling2D, BatchNormalization\n",
    "from imblearn.pipeline import Pipeline\n",
    "from sklearn.model_selection import train_test_split\n",
    "import random\n",
    "from keras_tuner import HyperModel\n",
    "from keras_tuner.tuners import RandomSearch\n",
    "from keras_tuner.engine.hyperparameters import HyperParameters as hp\n",
    "import tensorflow as tf\n",
    "from tensorflow.keras.preprocessing import image\n",
    "from tensorflow.keras.applications.vgg16 import VGG16, preprocess_input\n",
    "from sklearn.metrics import confusion_matrix, ConfusionMatrixDisplay, f1_score, precision_score, recall_score, accuracy_score, classification_report, roc_auc_score\n",
    "from keras_tuner import Objective\n",
    "from tensorflow.keras.optimizers import Adam\n",
    "from keras.callbacks import EarlyStopping\n",
    "import cv2\n",
    "\n",
    "print(\"Num GPUs Available: \", len(tf.config.list_physical_devices(\"GPU\")))\n",
    "\n",
    "%matplotlib inline"
   ]
  },
  {
   "cell_type": "markdown",
   "id": "411005d3-168a-4520-84ea-bc8148824f99",
   "metadata": {},
   "source": [
    "# Constants"
   ]
  },
  {
   "cell_type": "code",
   "execution_count": 2,
   "id": "d9e6bbc8-76b3-4f24-9fd1-7b73b7ad53c0",
   "metadata": {
    "tags": []
   },
   "outputs": [],
   "source": [
    "# Change this when you are running this yourself.\n",
    "IMAGE_PATH = \"/home/jovyan/work/ai/train\"\n",
    "OUTPUT_IMAGE_PATH_DOCKER = \"/home/jovyan/work/tmp\"\n",
    "KERAS_IMAGE_CONFIG = (128, 128, 1) # 128 x 128, greyscale (1 channel) (or 256x256 RGB)\n",
    "KERAS_BATCH_SIZE = 16\n",
    "IMAGE_FILENAME_COLUMN = \"image_name\"\n",
    "LESION_STATUS_COLUMN = \"benign_malignant\"\n",
    "CLASS_MODE = \"binary\"\n",
    "COLOUR_MODE = \"grayscale\"\n",
    "TRUTH_FILE = \"/home/jovyan/work/ai/ISIC_2020_Training_GroundTruth_v2.csv\"\n",
    "ANATOMY_SITE_COLUMN = \"anatom_site_general_challenge\"\n",
    "CANCEROUS = \"malignant\"\n",
    "NON_CANCEROUS = \"benign\""
   ]
  },
  {
   "cell_type": "code",
   "execution_count": 3,
   "id": "255e4402",
   "metadata": {
    "tags": []
   },
   "outputs": [],
   "source": [
    "training_ground_truth = pd.read_csv(TRUTH_FILE)"
   ]
  },
  {
   "cell_type": "markdown",
   "id": "8bfc0200",
   "metadata": {},
   "source": [
    "# Data Preparation"
   ]
  },
  {
   "cell_type": "code",
   "execution_count": 4,
   "id": "00f81455",
   "metadata": {
    "tags": []
   },
   "outputs": [],
   "source": [
    "# Null values\n",
    "training_ground_truth.dropna(inplace=True)"
   ]
  },
  {
   "cell_type": "code",
   "execution_count": 5,
   "id": "48635f44",
   "metadata": {
    "tags": []
   },
   "outputs": [],
   "source": [
    "# Add the `.jpg` extension\n",
    "training_ground_truth[IMAGE_FILENAME_COLUMN] = training_ground_truth[IMAGE_FILENAME_COLUMN].apply(lambda x: f\"{x}.jpg\")"
   ]
  },
  {
   "cell_type": "code",
   "execution_count": 6,
   "id": "4e15716c",
   "metadata": {
    "tags": []
   },
   "outputs": [],
   "source": [
    "# Extract the target\n",
    "training_ground_truth_y = training_ground_truth[LESION_STATUS_COLUMN]\n",
    "training_ground_truth.drop(LESION_STATUS_COLUMN, axis=1, inplace=True)"
   ]
  },
  {
   "cell_type": "code",
   "execution_count": 7,
   "id": "92ec2cb6",
   "metadata": {
    "tags": []
   },
   "outputs": [],
   "source": [
    "# In this case we remove some columns as well\n",
    "# benign_malignant is the same as target.\n",
    "\n",
    "# I think the `diagnosis` feature can be dropped as well.\n",
    "\n",
    "training_ground_truth.drop([\"patient_id\", \"lesion_id\", \"target\", \"diagnosis\"], axis=1, inplace=True)"
   ]
  },
  {
   "cell_type": "code",
   "execution_count": 8,
   "id": "c44b6946",
   "metadata": {
    "tags": []
   },
   "outputs": [],
   "source": [
    "# Hot-Encode the site feature\n",
    "# Normal encoding not used as it could introduce unwanted relationships unintentionally\n",
    "\n",
    "anatom_options = training_ground_truth[ANATOMY_SITE_COLUMN].unique()\n",
    "\n",
    "nested_options = [[option] for option in anatom_options]\n",
    "\n",
    "# Convert the anatom site to an array [x, y, z, ... ]\n",
    "hot_encoded_anatom_site = pd.get_dummies(training_ground_truth[ANATOMY_SITE_COLUMN], prefix=\"anatom_site\")\n",
    "# Some anatom_site has a / or a space character. Replace it for consistency.\n",
    "hot_encoded_anatom_site = hot_encoded_anatom_site.rename(columns=lambda x: x.replace('/', '_').replace(' ', '_'))\n",
    "\n",
    "# Replace the original feature\n",
    "training_ground_truth = pd.concat([training_ground_truth.drop(ANATOMY_SITE_COLUMN, axis=1), hot_encoded_anatom_site], axis=1)"
   ]
  },
  {
   "cell_type": "code",
   "execution_count": 9,
   "id": "201778c7",
   "metadata": {
    "scrolled": true,
    "tags": []
   },
   "outputs": [
    {
     "name": "stdout",
     "output_type": "stream",
     "text": [
      "<class 'pandas.core.frame.DataFrame'>\n",
      "Index: 32531 entries, 0 to 33125\n",
      "Data columns (total 9 columns):\n",
      " #   Column                       Non-Null Count  Dtype  \n",
      "---  ------                       --------------  -----  \n",
      " 0   image_name                   32531 non-null  object \n",
      " 1   sex                          32531 non-null  object \n",
      " 2   age_approx                   32531 non-null  float64\n",
      " 3   anatom_site_head_neck        32531 non-null  bool   \n",
      " 4   anatom_site_lower_extremity  32531 non-null  bool   \n",
      " 5   anatom_site_oral_genital     32531 non-null  bool   \n",
      " 6   anatom_site_palms_soles      32531 non-null  bool   \n",
      " 7   anatom_site_torso            32531 non-null  bool   \n",
      " 8   anatom_site_upper_extremity  32531 non-null  bool   \n",
      "dtypes: bool(6), float64(1), object(2)\n",
      "memory usage: 1.2+ MB\n"
     ]
    }
   ],
   "source": [
    "training_ground_truth.info()"
   ]
  },
  {
   "cell_type": "code",
   "execution_count": 10,
   "id": "eae4beba",
   "metadata": {
    "tags": []
   },
   "outputs": [
    {
     "name": "stdout",
     "output_type": "stream",
     "text": [
      "<class 'pandas.core.series.Series'>\n",
      "Index: 32531 entries, 0 to 33125\n",
      "Series name: benign_malignant\n",
      "Non-Null Count  Dtype \n",
      "--------------  ----- \n",
      "32531 non-null  object\n",
      "dtypes: object(1)\n",
      "memory usage: 508.3+ KB\n"
     ]
    }
   ],
   "source": [
    "training_ground_truth_y.info()"
   ]
  },
  {
   "cell_type": "markdown",
   "id": "73189ce3",
   "metadata": {},
   "source": [
    "# More Data Exploration Post-Cleaning"
   ]
  },
  {
   "cell_type": "code",
   "execution_count": 11,
   "id": "eb284f0c",
   "metadata": {
    "tags": []
   },
   "outputs": [],
   "source": [
    "# Undersampling\n",
    "# Balanced\n",
    "undersampler = RandomUnderSampler(sampling_strategy=1.0, random_state=random.randint(0, 2**32 - 1))\n",
    "\n",
    "undersampled_x, undersampled_y = undersampler.fit_resample(training_ground_truth, training_ground_truth_y)"
   ]
  },
  {
   "cell_type": "code",
   "execution_count": 12,
   "id": "210ee5e7",
   "metadata": {
    "tags": []
   },
   "outputs": [
    {
     "name": "stdout",
     "output_type": "stream",
     "text": [
      "<class 'pandas.core.frame.DataFrame'>\n",
      "RangeIndex: 1150 entries, 0 to 1149\n",
      "Data columns (total 9 columns):\n",
      " #   Column                       Non-Null Count  Dtype  \n",
      "---  ------                       --------------  -----  \n",
      " 0   image_name                   1150 non-null   object \n",
      " 1   sex                          1150 non-null   object \n",
      " 2   age_approx                   1150 non-null   float64\n",
      " 3   anatom_site_head_neck        1150 non-null   bool   \n",
      " 4   anatom_site_lower_extremity  1150 non-null   bool   \n",
      " 5   anatom_site_oral_genital     1150 non-null   bool   \n",
      " 6   anatom_site_palms_soles      1150 non-null   bool   \n",
      " 7   anatom_site_torso            1150 non-null   bool   \n",
      " 8   anatom_site_upper_extremity  1150 non-null   bool   \n",
      "dtypes: bool(6), float64(1), object(2)\n",
      "memory usage: 33.8+ KB\n"
     ]
    }
   ],
   "source": [
    "undersampled_x.info()"
   ]
  },
  {
   "cell_type": "code",
   "execution_count": 13,
   "id": "e632fa8f",
   "metadata": {
    "scrolled": true,
    "tags": []
   },
   "outputs": [
    {
     "name": "stdout",
     "output_type": "stream",
     "text": [
      "<class 'pandas.core.series.Series'>\n",
      "RangeIndex: 1150 entries, 0 to 1149\n",
      "Series name: benign_malignant\n",
      "Non-Null Count  Dtype \n",
      "--------------  ----- \n",
      "1150 non-null   object\n",
      "dtypes: object(1)\n",
      "memory usage: 9.1+ KB\n"
     ]
    }
   ],
   "source": [
    "undersampled_y.info()"
   ]
  },
  {
   "cell_type": "code",
   "execution_count": 14,
   "id": "f3734755",
   "metadata": {
    "tags": []
   },
   "outputs": [
    {
     "name": "stdout",
     "output_type": "stream",
     "text": [
      "Train, validate and test (the actual testing happens later) lengths:\n",
      "690\n",
      "230\n",
      "230\n"
     ]
    }
   ],
   "source": [
    "# Split into training and validation. The testing dataset is provided separately under \"./testing\" (or \"./test\"?)\n",
    "# However, let's also split the training test further into train_df and temp_test_df. Maybe.\n",
    "\n",
    "# concatenate the variables and labels\n",
    "undersampled_df = pd.concat([undersampled_x, undersampled_y], axis=1)\n",
    "\n",
    "train_df, validate_df = train_test_split(undersampled_df, test_size=0.2, random_state=random.randint(0, 2**32 - 1), stratify=undersampled_df[LESION_STATUS_COLUMN])\n",
    "\n",
    "train_df, test_df = train_test_split(train_df, test_size=0.2 / (0.6 + 0.2), random_state=random.randint(0, 2**32 - 1), stratify=train_df[LESION_STATUS_COLUMN])\n",
    "\n",
    "print(\"Train, validate and test (the actual testing happens later) lengths:\")\n",
    "print(len(train_df))\n",
    "print(len(validate_df))\n",
    "print(len(test_df))"
   ]
  },
  {
   "cell_type": "markdown",
   "id": "945ec7b1-a77f-4048-b2e0-0286a09d516e",
   "metadata": {},
   "source": [
    "## Docker - Image Copying"
   ]
  },
  {
   "cell_type": "code",
   "execution_count": 15,
   "id": "461465a6-ed37-469c-8732-2511ab18b9af",
   "metadata": {
    "tags": []
   },
   "outputs": [],
   "source": [
    "import shutil\n",
    "import os\n",
    "\n",
    "def copy_images(df):\n",
    "    src_dir = IMAGE_PATH\n",
    "    dst_dir = OUTPUT_IMAGE_PATH_DOCKER\n",
    "    \n",
    "    # Check if the destination directory exists; if not, create it\n",
    "    if not os.path.exists(dst_dir):\n",
    "        os.makedirs(dst_dir)\n",
    "\n",
    "    for index, row in df.iterrows():\n",
    "        image_name_to_copy = row[IMAGE_FILENAME_COLUMN]\n",
    "        src_path = os.path.join(src_dir, image_name_to_copy)\n",
    "        dst_path = os.path.join(dst_dir, image_name_to_copy)\n",
    "\n",
    "        shutil.copy(src_path, dst_path)\n",
    "\n",
    "# If in Docker:\n",
    "# Change this if you are not running in Docker.\n",
    "in_docker = True\n",
    "\n",
    "if in_docker:\n",
    "    copy_images(train_df)\n",
    "    copy_images(validate_df)\n",
    "    copy_images(test_df)\n",
    "    IMAGE_PATH = OUTPUT_IMAGE_PATH_DOCKER"
   ]
  },
  {
   "cell_type": "markdown",
   "id": "921b9abf",
   "metadata": {},
   "source": [
    "# Image Loading From Disk"
   ]
  },
  {
   "cell_type": "code",
   "execution_count": 16,
   "id": "7f370e9b-b018-4326-9609-c08600a00a51",
   "metadata": {
    "tags": []
   },
   "outputs": [],
   "source": [
    "# Note: Do not perform random transformations on the validation or testing set.\n",
    "def load_images(df, transformations):\n",
    "    image_data_generator = ImageDataGenerator(rotation_range=360)\n",
    "    \n",
    "    temp_images = []\n",
    "    \n",
    "    for index, row in df.iterrows():\n",
    "        image_name = row[IMAGE_FILENAME_COLUMN]\n",
    "        temp_image = image.load_img(os.path.join(IMAGE_PATH, image_name), target_size=(KERAS_IMAGE_CONFIG[0], KERAS_IMAGE_CONFIG[1]), color_mode=COLOUR_MODE)\n",
    "        temp_image_array = image.img_to_array(temp_image) / 255.0 # Normalising the image pixels\n",
    "        \n",
    "        if transformations:\n",
    "            temp_image_array = image_data_generator.random_transform(temp_image_array)\n",
    "        \n",
    "        temp_images.append(temp_image_array)\n",
    "    \n",
    "    return temp_images"
   ]
  },
  {
   "cell_type": "code",
   "execution_count": 17,
   "id": "3824fe9b-ef70-4548-9acc-5c807f734035",
   "metadata": {
    "tags": []
   },
   "outputs": [],
   "source": [
    "train_images = load_images(train_df, True)\n",
    "train_labels = [1 if original_label == CANCEROUS else 0 for original_label in train_df[LESION_STATUS_COLUMN]]\n",
    "\n",
    "validation_images = load_images(validate_df, False)\n",
    "validation_labels = [1 if original_label == CANCEROUS else 0 for original_label in validate_df[LESION_STATUS_COLUMN]]\n",
    "\n",
    "test_images = load_images(test_df, False)\n",
    "test_labels = [1 if original_label == CANCEROUS else 0 for original_label in test_df[LESION_STATUS_COLUMN]]"
   ]
  },
  {
   "cell_type": "code",
   "execution_count": 18,
   "id": "1533ed7f-07c4-4dd6-bf30-79e63bc0c8c2",
   "metadata": {
    "tags": []
   },
   "outputs": [
    {
     "name": "stdout",
     "output_type": "stream",
     "text": [
      "690\n",
      "690\n",
      "230\n",
      "230\n",
      "230\n",
      "230\n"
     ]
    }
   ],
   "source": [
    "print(len(train_images))\n",
    "print(len(train_labels))\n",
    "\n",
    "print(len(validation_images))\n",
    "print(len(validation_labels))\n",
    "\n",
    "print(len(test_images))\n",
    "print(len(test_labels))"
   ]
  },
  {
   "cell_type": "markdown",
   "id": "1ed9ef3a",
   "metadata": {
    "tags": []
   },
   "source": [
    "# Model Creation"
   ]
  },
  {
   "cell_type": "code",
   "execution_count": 19,
   "id": "f6a42185-4d67-4bcd-a44e-1c6815efacd4",
   "metadata": {
    "tags": []
   },
   "outputs": [],
   "source": [
    "def print_confusion_matrix(true_labels, predictions):\n",
    "    temp_confusion_matrix = confusion_matrix(true_labels, predictions)\n",
    "    \n",
    "    # Calculate what percentage each class is equal to.\n",
    "    temp_percentages = temp_confusion_matrix.astype(\"float\") / temp_confusion_matrix.sum(axis=1)[:, np.newaxis]\n",
    "    temp_percentages = np.round(temp_percentages * 100, 2) # Round to 2 decimal places\n",
    "    \n",
    "    # Also, as seaborn doesn't include the values by default, we need to add them\n",
    "    confusion_matrix_labels = [[\"True Negative\\n{}\\n{}%\".format(temp_confusion_matrix[0, 0], temp_percentages[0, 0]),\n",
    "                                \"False Positive\\n{}\\n{}%\".format(temp_confusion_matrix[0, 1], temp_percentages[0, 1])],\n",
    "                               [\"False Negative\\n{}\\n{}%\".format(temp_confusion_matrix[1, 0], temp_percentages[1, 0]),\n",
    "                                \"True Positive\\n{}\\n{}%\".format(temp_confusion_matrix[1, 1], temp_percentages[1, 1])]]\n",
    "    \n",
    "    plt.figure(figsize=(6, 6))\n",
    "    \n",
    "    # Use Seaborn so we can add annotations\n",
    "    sns.heatmap(temp_confusion_matrix, annot=confusion_matrix_labels, fmt=\"\", cmap=\"Blues\", cbar=False, xticklabels=False, yticklabels=False)\n",
    "    \n",
    "    plt.xlabel(\"Predicted\")\n",
    "    plt.ylabel(\"True\")\n",
    "    plt.show()"
   ]
  },
  {
   "cell_type": "code",
   "execution_count": 20,
   "id": "d24519da",
   "metadata": {
    "tags": []
   },
   "outputs": [],
   "source": [
    "class F1Score(tf.keras.metrics.Metric):\n",
    "    def __init__(self, name=\"f1_score\", **kwargs):\n",
    "        super(F1Score, self).__init__(name=name, **kwargs)\n",
    "        self.precision = tf.keras.metrics.Precision()\n",
    "        self.recall = tf.keras.metrics.Recall()\n",
    "\n",
    "    def update_state(self, y_true, y_pred, sample_weight=None):\n",
    "        self.precision.update_state(y_true, y_pred, sample_weight)\n",
    "        self.recall.update_state(y_true, y_pred, sample_weight)\n",
    "\n",
    "    def result(self):\n",
    "        precision = self.precision.result()\n",
    "        recall = self.recall.result()\n",
    "        f1_score = 2 * ((precision * recall) / (precision + recall + 1e-7)) # Prevent division by zero.\n",
    "        return f1_score\n",
    "\n",
    "    def reset_state(self):\n",
    "        self.precision.reset_state()\n",
    "        self.recall.reset_state()"
   ]
  },
  {
   "cell_type": "markdown",
   "id": "cc3f568f-93f4-4354-9115-76349c76d50b",
   "metadata": {},
   "source": [
    "## CNN - No Hyper-Parameters"
   ]
  },
  {
   "cell_type": "code",
   "execution_count": 21,
   "id": "35c97ef9",
   "metadata": {
    "tags": []
   },
   "outputs": [
    {
     "name": "stderr",
     "output_type": "stream",
     "text": [
      "2023-04-12 03:17:00.342396: I tensorflow/core/platform/cpu_feature_guard.cc:193] This TensorFlow binary is optimized with oneAPI Deep Neural Network Library (oneDNN) to use the following CPU instructions in performance-critical operations:  AVX2 FMA\n",
      "To enable them in other operations, rebuild TensorFlow with the appropriate compiler flags.\n",
      "2023-04-12 03:17:00.343865: I tensorflow/stream_executor/cuda/cuda_gpu_executor.cc:966] could not open file to read NUMA node: /sys/bus/pci/devices/0000:01:00.0/numa_node\n",
      "Your kernel may have been built without NUMA support.\n",
      "2023-04-12 03:17:00.344343: I tensorflow/stream_executor/cuda/cuda_gpu_executor.cc:966] could not open file to read NUMA node: /sys/bus/pci/devices/0000:01:00.0/numa_node\n",
      "Your kernel may have been built without NUMA support.\n",
      "2023-04-12 03:17:00.344771: I tensorflow/stream_executor/cuda/cuda_gpu_executor.cc:966] could not open file to read NUMA node: /sys/bus/pci/devices/0000:01:00.0/numa_node\n",
      "Your kernel may have been built without NUMA support.\n",
      "2023-04-12 03:17:00.910646: I tensorflow/stream_executor/cuda/cuda_gpu_executor.cc:966] could not open file to read NUMA node: /sys/bus/pci/devices/0000:01:00.0/numa_node\n",
      "Your kernel may have been built without NUMA support.\n",
      "2023-04-12 03:17:00.911001: I tensorflow/stream_executor/cuda/cuda_gpu_executor.cc:966] could not open file to read NUMA node: /sys/bus/pci/devices/0000:01:00.0/numa_node\n",
      "Your kernel may have been built without NUMA support.\n",
      "2023-04-12 03:17:00.911015: I tensorflow/core/common_runtime/gpu/gpu_device.cc:1700] Could not identify NUMA node of platform GPU id 0, defaulting to 0.  Your kernel may not have been built with NUMA support.\n",
      "2023-04-12 03:17:00.911294: I tensorflow/stream_executor/cuda/cuda_gpu_executor.cc:966] could not open file to read NUMA node: /sys/bus/pci/devices/0000:01:00.0/numa_node\n",
      "Your kernel may have been built without NUMA support.\n",
      "2023-04-12 03:17:00.911352: I tensorflow/core/common_runtime/gpu/gpu_device.cc:1616] Created device /job:localhost/replica:0/task:0/device:GPU:0 with 2740 MB memory:  -> device: 0, name: NVIDIA GeForce GTX 970, pci bus id: 0000:01:00.0, compute capability: 5.2\n"
     ]
    }
   ],
   "source": [
    "# No hyper-parameters, following what `Introduction to convolutional neural network using Keras; an understanding from a statistician` did\n",
    "\n",
    "initial_model = Sequential([\n",
    "    Conv2D(filters=32,\n",
    "           kernel_size=(3,3),\n",
    "           activation=\"relu\",\n",
    "           input_shape=KERAS_IMAGE_CONFIG),\n",
    "    Conv2D(filters=64,\n",
    "           kernel_size=(3,3),\n",
    "           activation=\"relu\"),\n",
    "    MaxPooling2D(pool_size=(2,2)),\n",
    "    Dropout(0.25),\n",
    "    Flatten(),\n",
    "    Dense(units=128, activation=\"relu\"),\n",
    "    Dropout(0.5),\n",
    "    Dense(units=1, activation=\"sigmoid\")\n",
    "])"
   ]
  },
  {
   "cell_type": "code",
   "execution_count": 22,
   "id": "27aa3619",
   "metadata": {
    "tags": []
   },
   "outputs": [],
   "source": [
    "initial_model.compile(optimizer=Adam(learning_rate=0.001), loss=\"binary_crossentropy\", metrics=[tf.keras.metrics.AUC()])"
   ]
  },
  {
   "cell_type": "code",
   "execution_count": 23,
   "id": "42c0b926-87ed-4b92-8265-992147cbc8ff",
   "metadata": {
    "tags": []
   },
   "outputs": [
    {
     "name": "stdout",
     "output_type": "stream",
     "text": [
      "Model: \"sequential\"\n",
      "_________________________________________________________________\n",
      " Layer (type)                Output Shape              Param #   \n",
      "=================================================================\n",
      " conv2d (Conv2D)             (None, 126, 126, 32)      320       \n",
      "                                                                 \n",
      " conv2d_1 (Conv2D)           (None, 124, 124, 64)      18496     \n",
      "                                                                 \n",
      " max_pooling2d (MaxPooling2D  (None, 62, 62, 64)       0         \n",
      " )                                                               \n",
      "                                                                 \n",
      " dropout (Dropout)           (None, 62, 62, 64)        0         \n",
      "                                                                 \n",
      " flatten (Flatten)           (None, 246016)            0         \n",
      "                                                                 \n",
      " dense (Dense)               (None, 128)               31490176  \n",
      "                                                                 \n",
      " dropout_1 (Dropout)         (None, 128)               0         \n",
      "                                                                 \n",
      " dense_1 (Dense)             (None, 1)                 129       \n",
      "                                                                 \n",
      "=================================================================\n",
      "Total params: 31,509,121\n",
      "Trainable params: 31,509,121\n",
      "Non-trainable params: 0\n",
      "_________________________________________________________________\n",
      "None\n"
     ]
    }
   ],
   "source": [
    "print(initial_model.summary())"
   ]
  },
  {
   "cell_type": "code",
   "execution_count": 24,
   "id": "a3b8370e",
   "metadata": {
    "tags": []
   },
   "outputs": [
    {
     "name": "stdout",
     "output_type": "stream",
     "text": [
      "Epoch 1/30\n"
     ]
    },
    {
     "name": "stderr",
     "output_type": "stream",
     "text": [
      "2023-04-12 03:17:02.629561: I tensorflow/stream_executor/cuda/cuda_dnn.cc:384] Loaded cuDNN version 8400\n"
     ]
    },
    {
     "name": "stdout",
     "output_type": "stream",
     "text": [
      "44/44 [==============================] - 4s 50ms/step - loss: 1.0509 - auc: 0.5179 - val_loss: 0.6930 - val_auc: 0.5044\n",
      "Epoch 2/30\n",
      "44/44 [==============================] - 2s 41ms/step - loss: 0.6895 - auc: 0.5397 - val_loss: 0.6747 - val_auc: 0.6940\n",
      "Epoch 3/30\n",
      "44/44 [==============================] - 2s 41ms/step - loss: 0.6804 - auc: 0.6636 - val_loss: 0.6663 - val_auc: 0.7403\n",
      "Epoch 4/30\n",
      "44/44 [==============================] - 2s 42ms/step - loss: 0.6753 - auc: 0.6410 - val_loss: 0.6635 - val_auc: 0.7112\n",
      "Epoch 5/30\n",
      "44/44 [==============================] - 2s 42ms/step - loss: 0.6769 - auc: 0.6416 - val_loss: 0.6726 - val_auc: 0.6077\n",
      "Epoch 6/30\n",
      "44/44 [==============================] - 2s 40ms/step - loss: 0.6852 - auc: 0.6151 - val_loss: 0.6823 - val_auc: 0.7236\n",
      "Epoch 7/30\n",
      "44/44 [==============================] - 2s 41ms/step - loss: 0.6759 - auc: 0.5927 - val_loss: 0.6612 - val_auc: 0.6141\n",
      "Epoch 8/30\n",
      "44/44 [==============================] - 2s 41ms/step - loss: 0.6576 - auc: 0.6716 - val_loss: 0.6786 - val_auc: 0.7112\n",
      "Epoch 9/30\n",
      "44/44 [==============================] - 2s 42ms/step - loss: 0.6826 - auc: 0.5997 - val_loss: 0.6705 - val_auc: 0.7081\n",
      "Epoch 10/30\n",
      "44/44 [==============================] - 2s 43ms/step - loss: 0.6705 - auc: 0.6468 - val_loss: 0.6812 - val_auc: 0.7104\n",
      "Epoch 11/30\n",
      "44/44 [==============================] - 2s 40ms/step - loss: 0.6659 - auc: 0.6451 - val_loss: 0.6565 - val_auc: 0.7042\n",
      "Epoch 12/30\n",
      "44/44 [==============================] - 2s 41ms/step - loss: 0.6459 - auc: 0.6944 - val_loss: 0.7973 - val_auc: 0.7478\n",
      "Epoch 13/30\n",
      "44/44 [==============================] - 2s 40ms/step - loss: 0.6720 - auc: 0.6320 - val_loss: 0.6505 - val_auc: 0.7366\n",
      "Epoch 14/30\n",
      "44/44 [==============================] - 2s 41ms/step - loss: 0.6648 - auc: 0.6597 - val_loss: 0.6584 - val_auc: 0.7180\n",
      "Epoch 15/30\n",
      "44/44 [==============================] - 2s 41ms/step - loss: 0.6507 - auc: 0.6935 - val_loss: 0.6458 - val_auc: 0.7220\n",
      "Epoch 16/30\n",
      "44/44 [==============================] - 2s 40ms/step - loss: 0.6465 - auc: 0.6992 - val_loss: 0.6510 - val_auc: 0.7223\n",
      "Epoch 17/30\n",
      "44/44 [==============================] - 2s 39ms/step - loss: 0.6418 - auc: 0.7055 - val_loss: 0.6342 - val_auc: 0.7250\n",
      "Epoch 18/30\n",
      "44/44 [==============================] - 2s 40ms/step - loss: 0.6409 - auc: 0.6926 - val_loss: 0.6383 - val_auc: 0.7305\n",
      "Epoch 19/30\n",
      "44/44 [==============================] - 2s 40ms/step - loss: 0.6201 - auc: 0.7288 - val_loss: 0.6285 - val_auc: 0.7229\n",
      "Epoch 20/30\n",
      "44/44 [==============================] - 2s 38ms/step - loss: 0.6262 - auc: 0.7320 - val_loss: 0.6217 - val_auc: 0.7317\n",
      "Epoch 21/30\n",
      "44/44 [==============================] - 2s 38ms/step - loss: 0.6177 - auc: 0.7368 - val_loss: 0.6213 - val_auc: 0.7316\n",
      "Epoch 22/30\n",
      "44/44 [==============================] - 2s 38ms/step - loss: 0.6256 - auc: 0.7250 - val_loss: 0.6330 - val_auc: 0.7479\n",
      "Epoch 23/30\n",
      "44/44 [==============================] - 2s 38ms/step - loss: 0.6233 - auc: 0.7327 - val_loss: 0.6205 - val_auc: 0.7513\n",
      "Epoch 24/30\n",
      "44/44 [==============================] - 2s 38ms/step - loss: 0.6212 - auc: 0.7257 - val_loss: 0.6150 - val_auc: 0.7575\n",
      "Epoch 25/30\n",
      "44/44 [==============================] - 2s 38ms/step - loss: 0.6003 - auc: 0.7418 - val_loss: 0.6022 - val_auc: 0.7426\n",
      "Epoch 26/30\n",
      "44/44 [==============================] - 2s 38ms/step - loss: 0.5981 - auc: 0.7410 - val_loss: 0.6109 - val_auc: 0.7367\n",
      "Epoch 27/30\n",
      "44/44 [==============================] - 2s 38ms/step - loss: 0.6467 - auc: 0.6994 - val_loss: 0.6024 - val_auc: 0.7414\n",
      "Epoch 28/30\n",
      "44/44 [==============================] - 2s 38ms/step - loss: 0.6002 - auc: 0.7440 - val_loss: 0.5917 - val_auc: 0.7606\n",
      "Epoch 29/30\n",
      "44/44 [==============================] - 2s 38ms/step - loss: 0.5952 - auc: 0.7584 - val_loss: 0.5996 - val_auc: 0.7538\n",
      "Epoch 30/30\n",
      "44/44 [==============================] - 2s 39ms/step - loss: 0.5847 - auc: 0.7566 - val_loss: 0.5789 - val_auc: 0.7556\n"
     ]
    }
   ],
   "source": [
    "# Train\n",
    "epochs = 30\n",
    "initial_train_data_gen = ImageDataGenerator(rotation_range=360) # no normalising here as that has already been done when loading the images from disk into memory\n",
    "initial_train_generator = initial_train_data_gen.flow(np.array(train_images), np.array(train_labels), batch_size=KERAS_BATCH_SIZE)\n",
    "\n",
    "initial_history = initial_model.fit(initial_train_generator, validation_data=(np.array(validation_images), np.array(validation_labels)), epochs=epochs)"
   ]
  },
  {
   "cell_type": "code",
   "execution_count": 25,
   "id": "ae40f712",
   "metadata": {
    "tags": []
   },
   "outputs": [
    {
     "data": {
      "image/png": "[encoded data removed]",
      "text/plain": [
       "<Figure size 1000x600 with 1 Axes>"
      ]
     },
     "metadata": {},
     "output_type": "display_data"
    }
   ],
   "source": [
    "# Plot the loss curves for the initial model without hyper parameter tuning\n",
    "plt.figure(figsize=(10, 6))\n",
    "\n",
    "# Plot the loss curves\n",
    "\n",
    "initial_training_loss = initial_history.history[\"loss\"]\n",
    "initial_validation_loss = initial_history.history[\"val_loss\"]\n",
    "\n",
    "plt.plot(initial_training_loss, label=\"Training Loss\")\n",
    "plt.plot(initial_validation_loss, label=\"Validation Loss\")\n",
    "\n",
    "plt.xlabel(\"Epochs\")\n",
    "plt.ylabel(\"Loss\")\n",
    "plt.title(\"Loss Curves for the initial Keras Sequential model with no hyper-parameter tuning\")\n",
    "plt.legend()\n",
    "\n",
    "plt.show()"
   ]
  },
  {
   "cell_type": "code",
   "execution_count": 26,
   "id": "7b14e5cc-a159-404b-b7c3-5abdb791a519",
   "metadata": {
    "tags": []
   },
   "outputs": [
    {
     "name": "stdout",
     "output_type": "stream",
     "text": [
      "8/8 [==============================] - 0s 13ms/step\n"
     ]
    }
   ],
   "source": [
    "# Make predictions using the initial model using the testing dataset\n",
    "initial_model_predictions = initial_model.predict(np.array(test_images))\n",
    "initial_model_prediction_labels = np.round(initial_model_predictions)"
   ]
  },
  {
   "cell_type": "code",
   "execution_count": 27,
   "id": "6a62f52e-bc88-4ace-ae92-8af956f9714b",
   "metadata": {
    "tags": []
   },
   "outputs": [
    {
     "data": {
      "image/png": "[encoded data removed]",
      "text/plain": [
       "<Figure size 600x600 with 1 Axes>"
      ]
     },
     "metadata": {},
     "output_type": "display_data"
    }
   ],
   "source": [
    "# Confusion Matrix\n",
    "print_confusion_matrix(test_labels, initial_model_prediction_labels)"
   ]
  },
  {
   "cell_type": "code",
   "execution_count": 28,
   "id": "49170352-5a64-4bd0-9178-97a75fe99e76",
   "metadata": {
    "tags": []
   },
   "outputs": [
    {
     "name": "stdout",
     "output_type": "stream",
     "text": [
      "              precision    recall  f1-score   support\n",
      "\n",
      "           0       0.77      0.63      0.69       115\n",
      "           1       0.68      0.81      0.74       115\n",
      "\n",
      "    accuracy                           0.72       230\n",
      "   macro avg       0.72      0.72      0.72       230\n",
      "weighted avg       0.72      0.72      0.72       230\n",
      "\n"
     ]
    }
   ],
   "source": [
    "# Classification report\n",
    "initial_classification_report = classification_report(test_labels, initial_model_prediction_labels)\n",
    "print(initial_classification_report)"
   ]
  },
  {
   "cell_type": "code",
   "execution_count": 65,
   "id": "cbeb1d30-61ab-4c0f-8425-a00d28f3ac33",
   "metadata": {
    "tags": []
   },
   "outputs": [],
   "source": [
    "# I'm happy with this model, so let's save it\n",
    "initial_model.save(\"./initial_model.h5\")"
   ]
  },
  {
   "cell_type": "markdown",
   "id": "7b4006ae-089d-461b-a662-3efc40cb0585",
   "metadata": {
    "tags": []
   },
   "source": [
    "## Adjusted Initial Model"
   ]
  },
  {
   "cell_type": "code",
   "execution_count": 53,
   "id": "ae24f766-4834-4d58-810e-e566f041decb",
   "metadata": {
    "tags": []
   },
   "outputs": [],
   "source": [
    "adjusted_model = Sequential([\n",
    "    Conv2D(32, (3, 3), activation=\"relu\", input_shape=KERAS_IMAGE_CONFIG),\n",
    "    BatchNormalization(),\n",
    "    MaxPooling2D(pool_size=(2, 2)),\n",
    "    \n",
    "    Conv2D(64, (3, 3), activation=\"relu\"),\n",
    "    BatchNormalization(),\n",
    "    MaxPooling2D(pool_size=(2, 2)),\n",
    "    \n",
    "    Conv2D(128, (3, 3), activation=\"relu\"),\n",
    "    BatchNormalization(),\n",
    "    MaxPooling2D(pool_size=(2, 2)),\n",
    "    \n",
    "    Flatten(),\n",
    "    \n",
    "    Dense(256, activation=\"relu\"),\n",
    "    BatchNormalization(),\n",
    "    Dropout(0.5),\n",
    "    \n",
    "    Dense(128, activation=\"relu\"),\n",
    "    BatchNormalization(),\n",
    "    Dropout(0.5),\n",
    "    \n",
    "    Dense(1, activation=\"sigmoid\")\n",
    "])"
   ]
  },
  {
   "cell_type": "code",
   "execution_count": 54,
   "id": "b04244ad-3376-4373-8c1e-be00e06ce8c8",
   "metadata": {
    "tags": []
   },
   "outputs": [],
   "source": [
    "adjusted_model.compile(optimizer=Adam(learning_rate=0.001), loss=\"binary_crossentropy\", metrics=[tf.keras.metrics.AUC()])"
   ]
  },
  {
   "cell_type": "code",
   "execution_count": 55,
   "id": "98d533df-f7a2-44c0-ba10-7b1dc03bad44",
   "metadata": {
    "tags": []
   },
   "outputs": [
    {
     "name": "stdout",
     "output_type": "stream",
     "text": [
      "Model: \"sequential_4\"\n",
      "_________________________________________________________________\n",
      " Layer (type)                Output Shape              Param #   \n",
      "=================================================================\n",
      " conv2d_11 (Conv2D)          (None, 126, 126, 32)      320       \n",
      "                                                                 \n",
      " batch_normalization_15 (Bat  (None, 126, 126, 32)     128       \n",
      " chNormalization)                                                \n",
      "                                                                 \n",
      " max_pooling2d_10 (MaxPoolin  (None, 63, 63, 32)       0         \n",
      " g2D)                                                            \n",
      "                                                                 \n",
      " conv2d_12 (Conv2D)          (None, 61, 61, 64)        18496     \n",
      "                                                                 \n",
      " batch_normalization_16 (Bat  (None, 61, 61, 64)       256       \n",
      " chNormalization)                                                \n",
      "                                                                 \n",
      " max_pooling2d_11 (MaxPoolin  (None, 30, 30, 64)       0         \n",
      " g2D)                                                            \n",
      "                                                                 \n",
      " conv2d_13 (Conv2D)          (None, 28, 28, 128)       73856     \n",
      "                                                                 \n",
      " batch_normalization_17 (Bat  (None, 28, 28, 128)      512       \n",
      " chNormalization)                                                \n",
      "                                                                 \n",
      " max_pooling2d_12 (MaxPoolin  (None, 14, 14, 128)      0         \n",
      " g2D)                                                            \n",
      "                                                                 \n",
      " flatten_4 (Flatten)         (None, 25088)             0         \n",
      "                                                                 \n",
      " dense_11 (Dense)            (None, 256)               6422784   \n",
      "                                                                 \n",
      " batch_normalization_18 (Bat  (None, 256)              1024      \n",
      " chNormalization)                                                \n",
      "                                                                 \n",
      " dropout_8 (Dropout)         (None, 256)               0         \n",
      "                                                                 \n",
      " dense_12 (Dense)            (None, 128)               32896     \n",
      "                                                                 \n",
      " batch_normalization_19 (Bat  (None, 128)              512       \n",
      " chNormalization)                                                \n",
      "                                                                 \n",
      " dropout_9 (Dropout)         (None, 128)               0         \n",
      "                                                                 \n",
      " dense_13 (Dense)            (None, 1)                 129       \n",
      "                                                                 \n",
      "=================================================================\n",
      "Total params: 6,550,913\n",
      "Trainable params: 6,549,697\n",
      "Non-trainable params: 1,216\n",
      "_________________________________________________________________\n",
      "None\n"
     ]
    }
   ],
   "source": [
    "print(adjusted_model.summary())"
   ]
  },
  {
   "cell_type": "code",
   "execution_count": 56,
   "id": "b2ef27ab-d7ff-481b-a6ad-b93fac0c950e",
   "metadata": {
    "tags": []
   },
   "outputs": [
    {
     "name": "stdout",
     "output_type": "stream",
     "text": [
      "Epoch 1/50\n",
      "44/44 [==============================] - 2s 30ms/step - loss: 0.8487 - auc_4: 0.6621 - val_loss: 0.7401 - val_auc_4: 0.7431\n",
      "Epoch 2/50\n",
      "44/44 [==============================] - 1s 23ms/step - loss: 0.6974 - auc_4: 0.7241 - val_loss: 0.8212 - val_auc_4: 0.6799\n",
      "Epoch 3/50\n",
      "44/44 [==============================] - 1s 23ms/step - loss: 0.7299 - auc_4: 0.7097 - val_loss: 0.6422 - val_auc_4: 0.7478\n",
      "Epoch 4/50\n",
      "44/44 [==============================] - 1s 23ms/step - loss: 0.6788 - auc_4: 0.7144 - val_loss: 0.7035 - val_auc_4: 0.6868\n",
      "Epoch 5/50\n",
      "44/44 [==============================] - 1s 22ms/step - loss: 0.6610 - auc_4: 0.7274 - val_loss: 0.7782 - val_auc_4: 0.6762\n",
      "Epoch 6/50\n",
      "44/44 [==============================] - 1s 22ms/step - loss: 0.7207 - auc_4: 0.6898 - val_loss: 0.7230 - val_auc_4: 0.7507\n",
      "Epoch 7/50\n",
      "44/44 [==============================] - 1s 22ms/step - loss: 0.6728 - auc_4: 0.7152 - val_loss: 0.7357 - val_auc_4: 0.4406\n",
      "Epoch 8/50\n",
      "44/44 [==============================] - 1s 23ms/step - loss: 0.6049 - auc_4: 0.7507 - val_loss: 0.5929 - val_auc_4: 0.7520\n",
      "Epoch 9/50\n",
      "44/44 [==============================] - 1s 22ms/step - loss: 0.6532 - auc_4: 0.7173 - val_loss: 0.6017 - val_auc_4: 0.7659\n",
      "Epoch 10/50\n",
      "44/44 [==============================] - 1s 22ms/step - loss: 0.6498 - auc_4: 0.7266 - val_loss: 0.6271 - val_auc_4: 0.7644\n",
      "Epoch 11/50\n",
      "44/44 [==============================] - 1s 22ms/step - loss: 0.6407 - auc_4: 0.7224 - val_loss: 0.5862 - val_auc_4: 0.7485\n",
      "Epoch 12/50\n",
      "44/44 [==============================] - 1s 22ms/step - loss: 0.6113 - auc_4: 0.7364 - val_loss: 0.5504 - val_auc_4: 0.7648\n",
      "Epoch 13/50\n",
      "44/44 [==============================] - 1s 22ms/step - loss: 0.6252 - auc_4: 0.7250 - val_loss: 0.5456 - val_auc_4: 0.7771\n",
      "Epoch 14/50\n",
      "44/44 [==============================] - 1s 22ms/step - loss: 0.6278 - auc_4: 0.7185 - val_loss: 0.6358 - val_auc_4: 0.7775\n",
      "Epoch 15/50\n",
      "44/44 [==============================] - 1s 22ms/step - loss: 0.6180 - auc_4: 0.7185 - val_loss: 0.5599 - val_auc_4: 0.7954\n",
      "Epoch 16/50\n",
      "44/44 [==============================] - 1s 22ms/step - loss: 0.6181 - auc_4: 0.7173 - val_loss: 0.5500 - val_auc_4: 0.7785\n",
      "Epoch 17/50\n",
      "44/44 [==============================] - 1s 22ms/step - loss: 0.5864 - auc_4: 0.7505 - val_loss: 0.5497 - val_auc_4: 0.7682\n",
      "Epoch 18/50\n",
      "44/44 [==============================] - 1s 22ms/step - loss: 0.6112 - auc_4: 0.7258 - val_loss: 1.1737 - val_auc_4: 0.4222\n",
      "Epoch 19/50\n",
      "44/44 [==============================] - 1s 22ms/step - loss: 0.6007 - auc_4: 0.7274 - val_loss: 0.6781 - val_auc_4: 0.7698\n",
      "Epoch 20/50\n",
      "44/44 [==============================] - 1s 22ms/step - loss: 0.5830 - auc_4: 0.7559 - val_loss: 0.5591 - val_auc_4: 0.7819\n",
      "Epoch 21/50\n",
      "44/44 [==============================] - 1s 22ms/step - loss: 0.5855 - auc_4: 0.7383 - val_loss: 0.7296 - val_auc_4: 0.7212\n",
      "Epoch 22/50\n",
      "44/44 [==============================] - 1s 22ms/step - loss: 0.6048 - auc_4: 0.7292 - val_loss: 0.5547 - val_auc_4: 0.7852\n",
      "Epoch 23/50\n",
      "44/44 [==============================] - 1s 22ms/step - loss: 0.6266 - auc_4: 0.7115 - val_loss: 0.5460 - val_auc_4: 0.7904\n",
      "Epoch 24/50\n",
      "44/44 [==============================] - 1s 21ms/step - loss: 0.5831 - auc_4: 0.7392 - val_loss: 0.5241 - val_auc_4: 0.7984\n",
      "Epoch 25/50\n",
      "44/44 [==============================] - 1s 21ms/step - loss: 0.5756 - auc_4: 0.7466 - val_loss: 0.5171 - val_auc_4: 0.8024\n",
      "Epoch 26/50\n",
      "44/44 [==============================] - 1s 21ms/step - loss: 0.5897 - auc_4: 0.7453 - val_loss: 0.6072 - val_auc_4: 0.7646\n",
      "Epoch 27/50\n",
      "44/44 [==============================] - 1s 22ms/step - loss: 0.5840 - auc_4: 0.7400 - val_loss: 0.5547 - val_auc_4: 0.7687\n",
      "Epoch 28/50\n",
      "44/44 [==============================] - 1s 21ms/step - loss: 0.5842 - auc_4: 0.7505 - val_loss: 0.5175 - val_auc_4: 0.7948\n",
      "Epoch 29/50\n",
      "44/44 [==============================] - 1s 22ms/step - loss: 0.5371 - auc_4: 0.7763 - val_loss: 0.5342 - val_auc_4: 0.7791\n",
      "Epoch 30/50\n",
      "44/44 [==============================] - 1s 24ms/step - loss: 0.5723 - auc_4: 0.7403 - val_loss: 0.5404 - val_auc_4: 0.7840\n",
      "Epoch 31/50\n",
      "44/44 [==============================] - 1s 22ms/step - loss: 0.5693 - auc_4: 0.7414 - val_loss: 0.6057 - val_auc_4: 0.7560\n",
      "Epoch 32/50\n",
      "44/44 [==============================] - 1s 22ms/step - loss: 0.5883 - auc_4: 0.7410 - val_loss: 0.5620 - val_auc_4: 0.7758\n",
      "Epoch 33/50\n",
      "44/44 [==============================] - 1s 22ms/step - loss: 0.5686 - auc_4: 0.7532 - val_loss: 0.5402 - val_auc_4: 0.7845\n",
      "Epoch 34/50\n",
      "44/44 [==============================] - 1s 22ms/step - loss: 0.5503 - auc_4: 0.7752 - val_loss: 0.5387 - val_auc_4: 0.7931\n",
      "Epoch 35/50\n",
      "44/44 [==============================] - 1s 22ms/step - loss: 0.5741 - auc_4: 0.7624 - val_loss: 0.5788 - val_auc_4: 0.7699\n",
      "Epoch 36/50\n",
      "44/44 [==============================] - 1s 22ms/step - loss: 0.5815 - auc_4: 0.7387 - val_loss: 0.7443 - val_auc_4: 0.5597\n",
      "Epoch 37/50\n",
      "44/44 [==============================] - 1s 22ms/step - loss: 0.5839 - auc_4: 0.7430 - val_loss: 0.6238 - val_auc_4: 0.7601\n",
      "Epoch 38/50\n",
      "44/44 [==============================] - 1s 22ms/step - loss: 0.5880 - auc_4: 0.7436 - val_loss: 0.5975 - val_auc_4: 0.7720\n",
      "Epoch 39/50\n",
      "44/44 [==============================] - 1s 23ms/step - loss: 0.5802 - auc_4: 0.7477 - val_loss: 0.5559 - val_auc_4: 0.7868\n",
      "Epoch 40/50\n",
      "44/44 [==============================] - 1s 22ms/step - loss: 0.5719 - auc_4: 0.7580 - val_loss: 0.5615 - val_auc_4: 0.7797\n",
      "Epoch 41/50\n",
      "44/44 [==============================] - 1s 22ms/step - loss: 0.5843 - auc_4: 0.7417 - val_loss: 0.5403 - val_auc_4: 0.7710\n",
      "Epoch 42/50\n",
      "44/44 [==============================] - 1s 22ms/step - loss: 0.5497 - auc_4: 0.7781 - val_loss: 0.5303 - val_auc_4: 0.7798\n",
      "Epoch 43/50\n",
      "44/44 [==============================] - 1s 23ms/step - loss: 0.5701 - auc_4: 0.7466 - val_loss: 0.5296 - val_auc_4: 0.7733\n",
      "Epoch 44/50\n",
      "44/44 [==============================] - 1s 22ms/step - loss: 0.5561 - auc_4: 0.7617 - val_loss: 0.6949 - val_auc_4: 0.7659\n",
      "Epoch 45/50\n",
      "44/44 [==============================] - 1s 22ms/step - loss: 0.5925 - auc_4: 0.7379 - val_loss: 0.6798 - val_auc_4: 0.7813\n",
      "Epoch 46/50\n",
      "44/44 [==============================] - 1s 22ms/step - loss: 0.5561 - auc_4: 0.7686 - val_loss: 0.5679 - val_auc_4: 0.7845\n",
      "Epoch 47/50\n",
      "44/44 [==============================] - 1s 22ms/step - loss: 0.5645 - auc_4: 0.7680 - val_loss: 0.5781 - val_auc_4: 0.7836\n",
      "Epoch 48/50\n",
      "44/44 [==============================] - 1s 22ms/step - loss: 0.5773 - auc_4: 0.7479 - val_loss: 0.6287 - val_auc_4: 0.7036\n",
      "Epoch 49/50\n",
      "44/44 [==============================] - 1s 22ms/step - loss: 0.5927 - auc_4: 0.7464 - val_loss: 0.5611 - val_auc_4: 0.7796\n",
      "Epoch 50/50\n",
      "44/44 [==============================] - 1s 22ms/step - loss: 0.5792 - auc_4: 0.7597 - val_loss: 0.5582 - val_auc_4: 0.7860\n"
     ]
    }
   ],
   "source": [
    "# Train\n",
    "adjusted_epochs = 50\n",
    "\n",
    "adjusted_train_data_gen = ImageDataGenerator(rotation_range=360) # no normalising here as that has already been done when loading the images from disk into memory\n",
    "adjusted_train_generator = adjusted_train_data_gen.flow(np.array(train_images), np.array(train_labels), batch_size=KERAS_BATCH_SIZE)\n",
    "\n",
    "adjusted_history = adjusted_model.fit(adjusted_train_generator, validation_data=(np.array(validation_images), np.array(validation_labels)), epochs=adjusted_epochs)"
   ]
  },
  {
   "cell_type": "code",
   "execution_count": 57,
   "id": "d590aa3f-2aea-45a9-818a-2fa4300e317f",
   "metadata": {
    "tags": []
   },
   "outputs": [
    {
     "data": {
      "image/png": "[encoded data removed]",
      "text/plain": [
       "<Figure size 1000x500 with 1 Axes>"
      ]
     },
     "metadata": {},
     "output_type": "display_data"
    }
   ],
   "source": [
    "# Plot the loss curves for the initial model without hyper parameter tuning\n",
    "plt.figure(figsize=(10, 5))\n",
    "\n",
    "# Plot the loss curves\n",
    "\n",
    "adjusted_training_loss = adjusted_history.history[\"loss\"]\n",
    "adjusted_validation_loss = adjusted_history.history[\"val_loss\"]\n",
    "\n",
    "plt.plot(adjusted_training_loss, label=\"Training Loss\")\n",
    "plt.plot(adjusted_validation_loss, label=\"Validation Loss\")\n",
    "\n",
    "# Set the labels and title\n",
    "plt.xlabel(\"Epochs\")\n",
    "plt.ylabel(\"Loss\")\n",
    "plt.title(\"Loss Curves for the modified/adjusted Keras Sequential model with no hyper-parameter tuning\")\n",
    "plt.legend()\n",
    "\n",
    "# Display the plot\n",
    "plt.show()"
   ]
  },
  {
   "cell_type": "code",
   "execution_count": 58,
   "id": "f7f3626e-c930-4dec-b7bd-52ebc647d081",
   "metadata": {
    "tags": []
   },
   "outputs": [
    {
     "name": "stdout",
     "output_type": "stream",
     "text": [
      "8/8 [==============================] - 0s 8ms/step\n"
     ]
    }
   ],
   "source": [
    "# Make predictions using the adjusted model using the testing dataset\n",
    "adjusted_model_predictions = adjusted_model.predict(np.array(test_images))\n",
    "adjusted_model_prediction_labels = np.round(adjusted_model_predictions)\n"
   ]
  },
  {
   "cell_type": "code",
   "execution_count": 59,
   "id": "997ced08-e377-4357-8d1e-9e4ff8d01229",
   "metadata": {
    "tags": []
   },
   "outputs": [
    {
     "data": {
      "image/png": "[encoded data removed]",
      "text/plain": [
       "<Figure size 600x600 with 1 Axes>"
      ]
     },
     "metadata": {},
     "output_type": "display_data"
    }
   ],
   "source": [
    "# Confusion Matrix\n",
    "print_confusion_matrix(test_labels, adjusted_model_prediction_labels)"
   ]
  },
  {
   "cell_type": "code",
   "execution_count": 60,
   "id": "1572a100-df64-4e87-90b3-f45fa9349d31",
   "metadata": {
    "tags": []
   },
   "outputs": [
    {
     "name": "stdout",
     "output_type": "stream",
     "text": [
      "              precision    recall  f1-score   support\n",
      "\n",
      "           0       0.71      0.70      0.70       115\n",
      "           1       0.70      0.71      0.71       115\n",
      "\n",
      "    accuracy                           0.70       230\n",
      "   macro avg       0.70      0.70      0.70       230\n",
      "weighted avg       0.70      0.70      0.70       230\n",
      "\n"
     ]
    }
   ],
   "source": [
    "# Classification report\n",
    "adjusted_classification_report = classification_report(test_labels, adjusted_model_prediction_labels)\n",
    "print(adjusted_classification_report)"
   ]
  },
  {
   "cell_type": "code",
   "execution_count": 63,
   "id": "b70cca0a-afb0-41e6-a4c9-1e5b3498478a",
   "metadata": {
    "tags": []
   },
   "outputs": [],
   "source": [
    "# I'm happy with this model, so let's save it\n",
    "adjusted_model.save(\"./adjusted_model.h5\")"
   ]
  },
  {
   "cell_type": "markdown",
   "id": "38b6f5c7-8763-4f66-8bc8-b28e18fd57a0",
   "metadata": {},
   "source": [
    "## CNN - Hyper-Parameters"
   ]
  },
  {
   "cell_type": "code",
   "execution_count": 68,
   "id": "673b02e8-4926-42b9-979d-d460f45f8cea",
   "metadata": {
    "tags": []
   },
   "outputs": [],
   "source": [
    "def build_model(hyper_params):\n",
    "    hyper_model = Sequential()\n",
    "    \n",
    "    hyper_model.add(Conv2D(filters=hyper_params.Int(name=\"conv_1_filter\", min_value=16, max_value=64, step=16),\n",
    "                           kernel_size=hyper_params.Choice(name=\"conv_1_kernel\", values=[3,5]),\n",
    "                           activation=\"relu\",\n",
    "                           input_shape=KERAS_IMAGE_CONFIG)\n",
    "                   )\n",
    "    \n",
    "    hyper_model.add(BatchNormalization())\n",
    "    \n",
    "    hyper_model.add(MaxPooling2D(pool_size=hyper_params.Int(name=\"pool_1_size\", min_value=2, max_value=4, step=1)))\n",
    "    \n",
    "    hyper_model.add(Conv2D(filters=hyper_params.Int(name=\"conv_2_filter\", min_value=32, max_value=64, step=16),\n",
    "                           kernel_size=hyper_params.Choice(name=\"conv_2_kernel\", values=[3,5]),\n",
    "                           activation=\"relu\",\n",
    "                          )\n",
    "                   )\n",
    "    \n",
    "    hyper_model.add(BatchNormalization())\n",
    "    \n",
    "    hyper_model.add(MaxPooling2D(pool_size=hyper_params.Int(name=\"pool_2_size\", min_value=2, max_value=4, step=1)))\n",
    "    \n",
    "    hyper_model.add(Conv2D(filters=hyper_params.Int(name=\"conv_3_filter\", min_value=64, max_value=128, step=32),\n",
    "                           kernel_size=hyper_params.Choice(name=\"conv_3_kernel\", values=[3,5]),\n",
    "                           activation=\"relu\",\n",
    "                          )\n",
    "                   )\n",
    "    \n",
    "    hyper_model.add(BatchNormalization())\n",
    "    \n",
    "    hyper_model.add(MaxPooling2D(pool_size=hyper_params.Int(name=\"pool_3_size\", min_value=2, max_value=4, step=1)))\n",
    "    \n",
    "    hyper_model.add(Flatten())\n",
    "    \n",
    "    hyper_model.add(Dense(units=hyper_params.Int(name=\"dense_1_units\", min_value=64, max_value=256, step=64), activation=\"relu\"))\n",
    "    \n",
    "    hyper_model.add(BatchNormalization())\n",
    "    \n",
    "    hyper_model.add(Dropout(hyper_params.Float(name=\"dropout_1_rate\", min_value=0.1, max_value=0.5, step=0.1)))\n",
    "    \n",
    "    hyper_model.add(Dense(units=hyper_params.Int(name=\"dense_2_units\", min_value=64, max_value=128, step=32), activation=\"relu\"))\n",
    "    \n",
    "    hyper_model.add(BatchNormalization())\n",
    "    \n",
    "    hyper_model.add(Dropout(hyper_params.Float(name=\"dropout_2_rate\", min_value=0.1, max_value=0.5, step=0.1)))\n",
    "    \n",
    "    hyper_model.add(Dense(units=1, activation=\"sigmoid\"))\n",
    "    \n",
    "    hyper_model.compile(optimizer=Adam(hyper_params.Choice(name=\"learning_rate\", values=[1e-2, 1e-3, 1e-4])),\n",
    "                  loss=\"binary_crossentropy\",\n",
    "                  metrics=[tf.keras.metrics.AUC()])\n",
    "    \n",
    "    return hyper_model"
   ]
  },
  {
   "cell_type": "code",
   "execution_count": 69,
   "id": "96c3b168-79a4-4842-9bbb-8959e8cb50b2",
   "metadata": {
    "tags": []
   },
   "outputs": [],
   "source": [
    "hyper_tuner = RandomSearch(\n",
    "    build_model,\n",
    "    objective=Objective(\"val_auc\", direction=\"max\"), # Pontentially change this into a weighted sum of auc and f1\n",
    "    max_trials=10,\n",
    "    executions_per_trial=10,\n",
    "    directory=\"./keras_tuner\",\n",
    "    project_name=\"sequential_hyper_params\")"
   ]
  },
  {
   "cell_type": "code",
   "execution_count": 70,
   "id": "ee364ae5-c1c5-43ea-bb1b-290ee025a59d",
   "metadata": {
    "tags": []
   },
   "outputs": [
    {
     "name": "stdout",
     "output_type": "stream",
     "text": [
      "Search space summary\n",
      "Default search space size: 14\n",
      "conv_1_filter (Int)\n",
      "{'default': None, 'conditions': [], 'min_value': 16, 'max_value': 64, 'step': 16, 'sampling': 'linear'}\n",
      "conv_1_kernel (Choice)\n",
      "{'default': 3, 'conditions': [], 'values': [3, 5], 'ordered': True}\n",
      "pool_1_size (Int)\n",
      "{'default': None, 'conditions': [], 'min_value': 2, 'max_value': 4, 'step': 1, 'sampling': 'linear'}\n",
      "conv_2_filter (Int)\n",
      "{'default': None, 'conditions': [], 'min_value': 32, 'max_value': 64, 'step': 16, 'sampling': 'linear'}\n",
      "conv_2_kernel (Choice)\n",
      "{'default': 3, 'conditions': [], 'values': [3, 5], 'ordered': True}\n",
      "pool_2_size (Int)\n",
      "{'default': None, 'conditions': [], 'min_value': 2, 'max_value': 4, 'step': 1, 'sampling': 'linear'}\n",
      "conv_3_filter (Int)\n",
      "{'default': None, 'conditions': [], 'min_value': 64, 'max_value': 128, 'step': 32, 'sampling': 'linear'}\n",
      "conv_3_kernel (Choice)\n",
      "{'default': 3, 'conditions': [], 'values': [3, 5], 'ordered': True}\n",
      "pool_3_size (Int)\n",
      "{'default': None, 'conditions': [], 'min_value': 2, 'max_value': 4, 'step': 1, 'sampling': 'linear'}\n",
      "dense_1_units (Int)\n",
      "{'default': None, 'conditions': [], 'min_value': 64, 'max_value': 256, 'step': 64, 'sampling': 'linear'}\n",
      "dropout_1_rate (Float)\n",
      "{'default': 0.1, 'conditions': [], 'min_value': 0.1, 'max_value': 0.5, 'step': 0.1, 'sampling': 'linear'}\n",
      "dense_2_units (Int)\n",
      "{'default': None, 'conditions': [], 'min_value': 64, 'max_value': 128, 'step': 32, 'sampling': 'linear'}\n",
      "dropout_2_rate (Float)\n",
      "{'default': 0.1, 'conditions': [], 'min_value': 0.1, 'max_value': 0.5, 'step': 0.1, 'sampling': 'linear'}\n",
      "learning_rate (Choice)\n",
      "{'default': 0.01, 'conditions': [], 'values': [0.01, 0.001, 0.0001], 'ordered': True}\n"
     ]
    }
   ],
   "source": [
    "hyper_tuner.search_space_summary()"
   ]
  },
  {
   "cell_type": "code",
   "execution_count": 71,
   "id": "9f201031-2afe-4234-b1a8-343f934a4d6a",
   "metadata": {
    "tags": []
   },
   "outputs": [
    {
     "name": "stdout",
     "output_type": "stream",
     "text": [
      "Trial 10 Complete [00h 03m 24s]\n",
      "val_auc: 0.7786616325378418\n",
      "\n",
      "Best val_auc So Far: 0.8016748487949371\n",
      "Total elapsed time: 00h 33m 50s\n",
      "INFO:tensorflow:Oracle triggered exit\n"
     ]
    }
   ],
   "source": [
    "# Search for Hyper-Params\n",
    "hyper_epochs = 20\n",
    "\n",
    "hyper_train_data_gen = ImageDataGenerator(rotation_range=360) # no normalising here as that has already been done when loading the images from disk into memory\n",
    "hyper_train_generator = hyper_train_data_gen.flow(np.array(train_images), np.array(train_labels), batch_size=KERAS_BATCH_SIZE)\n",
    "\n",
    "hyper_tuner.search(hyper_train_generator, epochs=hyper_epochs, validation_data=(np.array(validation_images), np.array(validation_labels)))"
   ]
  },
  {
   "cell_type": "code",
   "execution_count": 72,
   "id": "3a975828-cf7e-4ca3-9902-259f08bf6679",
   "metadata": {
    "tags": []
   },
   "outputs": [],
   "source": [
    "best_hyper_model = hyper_tuner.get_best_models(num_models=1)[0]\n",
    "best_hyper_parameters = hyper_tuner.get_best_hyperparameters(num_trials=1)[0]"
   ]
  },
  {
   "cell_type": "code",
   "execution_count": 79,
   "id": "4b86cf1f-e539-416d-a9bb-59ac3a89ec24",
   "metadata": {
    "tags": []
   },
   "outputs": [
    {
     "name": "stdout",
     "output_type": "stream",
     "text": [
      "Best Hyper Parameters for the Keras Sequential model:\n",
      "conv_1_filter\t: 16\n",
      "conv_1_kernel\t: 5\n",
      "pool_1_size\t: 3\n",
      "conv_2_filter\t: 48\n",
      "conv_2_kernel\t: 3\n",
      "pool_2_size\t: 2\n",
      "conv_3_filter\t: 128\n",
      "conv_3_kernel\t: 3\n",
      "pool_3_size\t: 4\n",
      "dense_1_units\t: 256\n",
      "dropout_1_rate\t: 0.2\n",
      "dense_2_units\t: 64\n",
      "dropout_2_rate\t: 0.2\n",
      "learning_rate\t: 0.0001\n"
     ]
    }
   ],
   "source": [
    "print(\"Best Hyper Parameters for the Keras Sequential model:\")\n",
    "for k, v in best_hyper_parameters.values.items():\n",
    "    print(f\"{k}\\t: {v}\")"
   ]
  },
  {
   "cell_type": "code",
   "execution_count": 80,
   "id": "46021bfa-fcdc-4779-9dd8-446356c92128",
   "metadata": {
    "tags": []
   },
   "outputs": [
    {
     "name": "stdout",
     "output_type": "stream",
     "text": [
      "8/8 [==============================] - 0s 5ms/step\n"
     ]
    }
   ],
   "source": [
    "# Make predictions using the adjusted model using the testing dataset\n",
    "best_hyper_model_predictions = best_hyper_model.predict(np.array(test_images))\n",
    "best_hyper_model_prediction_labels = np.round(best_hyper_model_predictions)"
   ]
  },
  {
   "cell_type": "code",
   "execution_count": 81,
   "id": "2ab5a363-4c56-464d-9e8e-6a153ce5a473",
   "metadata": {
    "tags": []
   },
   "outputs": [
    {
     "data": {
      "image/png": "[encoded data removed]",
      "text/plain": [
       "<Figure size 600x600 with 1 Axes>"
      ]
     },
     "metadata": {},
     "output_type": "display_data"
    }
   ],
   "source": [
    "# Confusion Matrix\n",
    "print_confusion_matrix(test_labels, best_hyper_model_prediction_labels)"
   ]
  },
  {
   "cell_type": "code",
   "execution_count": 82,
   "id": "5b6c2fdb-022d-4ece-97ac-daa10db087ac",
   "metadata": {
    "tags": []
   },
   "outputs": [
    {
     "name": "stdout",
     "output_type": "stream",
     "text": [
      "              precision    recall  f1-score   support\n",
      "\n",
      "           0       0.70      0.80      0.74       115\n",
      "           1       0.77      0.65      0.70       115\n",
      "\n",
      "    accuracy                           0.73       230\n",
      "   macro avg       0.73      0.73      0.72       230\n",
      "weighted avg       0.73      0.73      0.72       230\n",
      "\n"
     ]
    }
   ],
   "source": [
    "# Classification report\n",
    "best_hyper_classification_report = classification_report(test_labels, best_hyper_model_prediction_labels)\n",
    "print(best_hyper_classification_report)"
   ]
  },
  {
   "cell_type": "markdown",
   "id": "604e8136-0fed-4cc5-ad21-91242e4d8b35",
   "metadata": {
    "tags": []
   },
   "source": [
    "# VGG16 Model"
   ]
  },
  {
   "cell_type": "code",
   "execution_count": 83,
   "id": "9e94011a-c3cd-4a49-ac98-82096f9cb461",
   "metadata": {
    "tags": []
   },
   "outputs": [],
   "source": [
    "def crop_centre(image, target_width, target_height):\n",
    "    whole_height, whole_width, _ = image.shape\n",
    "\n",
    "    x_start = (whole_width // 2) - (target_width // 2)\n",
    "    x_end = x_start + target_width\n",
    "\n",
    "    y_start = (whole_height // 2) - (target_height // 2)\n",
    "    y_end = y_start + target_height\n",
    "\n",
    "    return image[y_start:y_end, x_start:x_end]"
   ]
  },
  {
   "cell_type": "code",
   "execution_count": 84,
   "id": "07c6319a-4801-49c7-8a86-dd3bfedc0ada",
   "metadata": {
    "tags": []
   },
   "outputs": [],
   "source": [
    "def load_vgg_images(df, transformations):\n",
    "    image_data_generator = ImageDataGenerator(rotation_range=360)\n",
    "    \n",
    "    temp_images = []\n",
    "    \n",
    "    for index, row in df.iterrows():\n",
    "        image_name = row[IMAGE_FILENAME_COLUMN]\n",
    "        temp_image = image.load_img(os.path.join(IMAGE_PATH, image_name), color_mode=\"rgb\")\n",
    "        temp_image = np.array(temp_image)\n",
    "        # Crop out the centre 224 by 224 of the image and use that, as those dimensions are what the model was initially trained on\n",
    "        cropped_middle = crop_centre(temp_image, 224, 224)\n",
    "        \n",
    "        if transformations:\n",
    "            cropped_middle = image_data_generator.random_transform(cropped_middle)\n",
    "\n",
    "        temp_images.append(cropped_middle)\n",
    "    \n",
    "    return temp_images"
   ]
  },
  {
   "cell_type": "code",
   "execution_count": 121,
   "id": "f523d321-93d2-4c67-9ab2-16308f342b6d",
   "metadata": {
    "tags": []
   },
   "outputs": [],
   "source": [
    "# Create the initial model\n",
    "vgg_model_base = VGG16(weights=\"imagenet\", include_top=False, input_shape=(224, 224, 3))"
   ]
  },
  {
   "cell_type": "code",
   "execution_count": 122,
   "id": "25ce9df8-4135-42c5-836b-2f032d310717",
   "metadata": {
    "tags": []
   },
   "outputs": [],
   "source": [
    "# Custom layers to perform binary classification\n",
    "x = vgg_model_base.output\n",
    "x = GlobalAveragePooling2D()(x)\n",
    "x = Dense(512, activation=\"relu\")(x) # I think this is used to train new connections based on the images we now provide\n",
    "vgg_output = Dense(1, activation=\"sigmoid\")(x)"
   ]
  },
  {
   "cell_type": "code",
   "execution_count": 123,
   "id": "bb70119f-0368-4874-acbe-dca571ab8c8c",
   "metadata": {
    "tags": []
   },
   "outputs": [],
   "source": [
    "vgg_model = Model(inputs=vgg_model_base.input, outputs=vgg_output)\n",
    "\n",
    "# We freeze the layers in the base model.\n",
    "for layer in vgg_model_base.layers:\n",
    "    layer.trainable = False"
   ]
  },
  {
   "cell_type": "code",
   "execution_count": 124,
   "id": "2e5a6ba4-1374-4bf9-8482-18c2e33b6e8b",
   "metadata": {
    "tags": []
   },
   "outputs": [],
   "source": [
    "vgg_model.compile(optimizer=Adam(), loss=\"binary_crossentropy\", metrics=[tf.keras.metrics.AUC()])"
   ]
  },
  {
   "cell_type": "code",
   "execution_count": 125,
   "id": "ae65ece5-806e-4d06-96e1-60d9706ee9c0",
   "metadata": {
    "tags": []
   },
   "outputs": [
    {
     "name": "stdout",
     "output_type": "stream",
     "text": [
      "Epoch 1/40\n",
      "44/44 [==============================] - 7s 148ms/step - loss: 0.8945 - auc_5: 0.6125 - val_loss: 0.7526 - val_auc_5: 0.7216\n",
      "Epoch 2/40\n",
      "44/44 [==============================] - 6s 138ms/step - loss: 0.7335 - auc_5: 0.7112 - val_loss: 0.6730 - val_auc_5: 0.7696\n",
      "Epoch 3/40\n",
      "44/44 [==============================] - 6s 139ms/step - loss: 0.5999 - auc_5: 0.7740 - val_loss: 0.9293 - val_auc_5: 0.7356\n",
      "Epoch 4/40\n",
      "44/44 [==============================] - 6s 136ms/step - loss: 0.6443 - auc_5: 0.7496 - val_loss: 0.8057 - val_auc_5: 0.7571\n",
      "Epoch 5/40\n",
      "44/44 [==============================] - 6s 138ms/step - loss: 0.5347 - auc_5: 0.8099 - val_loss: 0.9235 - val_auc_5: 0.7626\n",
      "Epoch 6/40\n",
      "44/44 [==============================] - 6s 140ms/step - loss: 0.5468 - auc_5: 0.8035 - val_loss: 0.6827 - val_auc_5: 0.7811\n",
      "Epoch 7/40\n",
      "44/44 [==============================] - 6s 139ms/step - loss: 0.5009 - auc_5: 0.8265 - val_loss: 0.6578 - val_auc_5: 0.7899\n",
      "Epoch 8/40\n",
      "44/44 [==============================] - 6s 138ms/step - loss: 0.5151 - auc_5: 0.8273 - val_loss: 0.8532 - val_auc_5: 0.7654\n",
      "Epoch 9/40\n",
      "44/44 [==============================] - 6s 134ms/step - loss: 0.4709 - auc_5: 0.8528 - val_loss: 0.7765 - val_auc_5: 0.7726\n",
      "Epoch 10/40\n",
      "44/44 [==============================] - 6s 136ms/step - loss: 0.4943 - auc_5: 0.8345 - val_loss: 0.6637 - val_auc_5: 0.7845\n",
      "Epoch 11/40\n",
      "44/44 [==============================] - 6s 135ms/step - loss: 0.4586 - auc_5: 0.8612 - val_loss: 0.8632 - val_auc_5: 0.7515\n",
      "Epoch 12/40\n",
      "44/44 [==============================] - 6s 135ms/step - loss: 0.4217 - auc_5: 0.8844 - val_loss: 0.7875 - val_auc_5: 0.7431\n",
      "Epoch 13/40\n",
      "44/44 [==============================] - 6s 135ms/step - loss: 0.4456 - auc_5: 0.8704 - val_loss: 0.7128 - val_auc_5: 0.7876\n",
      "Epoch 14/40\n",
      "44/44 [==============================] - 6s 132ms/step - loss: 0.4059 - auc_5: 0.8939 - val_loss: 0.9259 - val_auc_5: 0.7663\n",
      "Epoch 15/40\n",
      "44/44 [==============================] - 6s 139ms/step - loss: 0.4466 - auc_5: 0.8711 - val_loss: 0.9420 - val_auc_5: 0.7554\n",
      "Epoch 16/40\n",
      "44/44 [==============================] - 6s 135ms/step - loss: 0.3917 - auc_5: 0.9042 - val_loss: 0.6987 - val_auc_5: 0.7809\n",
      "Epoch 17/40\n",
      "44/44 [==============================] - 6s 141ms/step - loss: 0.4330 - auc_5: 0.8787 - val_loss: 0.8466 - val_auc_5: 0.7580\n",
      "Epoch 18/40\n",
      "44/44 [==============================] - 7s 166ms/step - loss: 0.3843 - auc_5: 0.9041 - val_loss: 0.7770 - val_auc_5: 0.7642\n",
      "Epoch 19/40\n",
      "44/44 [==============================] - 6s 132ms/step - loss: 0.4053 - auc_5: 0.8926 - val_loss: 0.6665 - val_auc_5: 0.7905\n",
      "Epoch 20/40\n",
      "44/44 [==============================] - 6s 136ms/step - loss: 0.4061 - auc_5: 0.8944 - val_loss: 0.8276 - val_auc_5: 0.7766\n",
      "Epoch 21/40\n",
      "44/44 [==============================] - 6s 131ms/step - loss: 0.3977 - auc_5: 0.8973 - val_loss: 0.7584 - val_auc_5: 0.7639\n",
      "Epoch 22/40\n",
      "44/44 [==============================] - 6s 131ms/step - loss: 0.3742 - auc_5: 0.9101 - val_loss: 0.6584 - val_auc_5: 0.7879\n",
      "Epoch 23/40\n",
      "44/44 [==============================] - 6s 130ms/step - loss: 0.3639 - auc_5: 0.9182 - val_loss: 0.6760 - val_auc_5: 0.7951\n",
      "Epoch 24/40\n",
      "44/44 [==============================] - 6s 132ms/step - loss: 0.3617 - auc_5: 0.9178 - val_loss: 0.7594 - val_auc_5: 0.7872\n",
      "Epoch 25/40\n",
      "44/44 [==============================] - 6s 131ms/step - loss: 0.3392 - auc_5: 0.9279 - val_loss: 0.7193 - val_auc_5: 0.7904\n",
      "Epoch 26/40\n",
      "44/44 [==============================] - 6s 130ms/step - loss: 0.3430 - auc_5: 0.9257 - val_loss: 0.7221 - val_auc_5: 0.7768\n",
      "Epoch 27/40\n",
      "44/44 [==============================] - 6s 131ms/step - loss: 0.4152 - auc_5: 0.8906 - val_loss: 0.7547 - val_auc_5: 0.7720\n",
      "Epoch 28/40\n",
      "44/44 [==============================] - 6s 130ms/step - loss: 0.3257 - auc_5: 0.9336 - val_loss: 0.7848 - val_auc_5: 0.7781\n",
      "Epoch 29/40\n",
      "44/44 [==============================] - 6s 130ms/step - loss: 0.3489 - auc_5: 0.9216 - val_loss: 0.8299 - val_auc_5: 0.7615\n",
      "Epoch 30/40\n",
      "44/44 [==============================] - 6s 131ms/step - loss: 0.3388 - auc_5: 0.9281 - val_loss: 0.8175 - val_auc_5: 0.7650\n",
      "Epoch 31/40\n",
      "44/44 [==============================] - 6s 139ms/step - loss: 0.3481 - auc_5: 0.9204 - val_loss: 0.7543 - val_auc_5: 0.7846\n",
      "Epoch 32/40\n",
      "44/44 [==============================] - 6s 135ms/step - loss: 0.3453 - auc_5: 0.9229 - val_loss: 0.7376 - val_auc_5: 0.7752\n",
      "Epoch 33/40\n",
      "44/44 [==============================] - 6s 133ms/step - loss: 0.2900 - auc_5: 0.9488 - val_loss: 0.8179 - val_auc_5: 0.7879\n",
      "Epoch 34/40\n",
      "44/44 [==============================] - 6s 134ms/step - loss: 0.3064 - auc_5: 0.9425 - val_loss: 0.7963 - val_auc_5: 0.7754\n",
      "Epoch 35/40\n",
      "44/44 [==============================] - 6s 135ms/step - loss: 0.3154 - auc_5: 0.9403 - val_loss: 0.7906 - val_auc_5: 0.7674\n",
      "Epoch 36/40\n",
      "44/44 [==============================] - 6s 146ms/step - loss: 0.2929 - auc_5: 0.9471 - val_loss: 0.8580 - val_auc_5: 0.7504\n",
      "Epoch 37/40\n",
      "44/44 [==============================] - 6s 143ms/step - loss: 0.3040 - auc_5: 0.9423 - val_loss: 0.6765 - val_auc_5: 0.7867\n",
      "Epoch 38/40\n",
      "44/44 [==============================] - 8s 172ms/step - loss: 0.2993 - auc_5: 0.9436 - val_loss: 0.7964 - val_auc_5: 0.7688\n",
      "Epoch 39/40\n",
      "44/44 [==============================] - 7s 150ms/step - loss: 0.3106 - auc_5: 0.9391 - val_loss: 0.7454 - val_auc_5: 0.7737\n",
      "Epoch 40/40\n",
      "44/44 [==============================] - 6s 138ms/step - loss: 0.2466 - auc_5: 0.9646 - val_loss: 0.6940 - val_auc_5: 0.7983\n"
     ]
    }
   ],
   "source": [
    "# Train the VGG model on the new dataset briefly.\n",
    "vgg_epochs = 40\n",
    "\n",
    "vgg_train_data_gen = ImageDataGenerator(rotation_range=360) # Normalising here maybe?\n",
    "# We need to load a new set of images to use for VGG as they have a different size from the ones we used before\n",
    "vgg_train_generator = vgg_train_data_gen.flow(np.array(vgg_train_images), np.array(train_labels), batch_size=KERAS_BATCH_SIZE)\n",
    "\n",
    "\n",
    "vgg_history = vgg_model.fit(vgg_train_generator, validation_data=(np.array(vgg_validation_images), np.array(validation_labels)), epochs=vgg_epochs)"
   ]
  },
  {
   "cell_type": "markdown",
   "id": "bb62c1c6-19fd-4f8a-abd0-ebd1836b36a8",
   "metadata": {},
   "source": [
    "## VGG16 Model Predictions"
   ]
  },
  {
   "cell_type": "code",
   "execution_count": 126,
   "id": "d0257b13-faa7-4d46-9893-85ec47c54724",
   "metadata": {
    "tags": []
   },
   "outputs": [
    {
     "name": "stdout",
     "output_type": "stream",
     "text": [
      "8/8 [==============================] - 1s 140ms/step\n"
     ]
    }
   ],
   "source": [
    "vgg_predictions = vgg_model.predict(np.array(vgg_test_images))\n",
    "vgg_prediction_labels = np.round(vgg_predictions)"
   ]
  },
  {
   "cell_type": "code",
   "execution_count": 127,
   "id": "e19157e2-feea-45d7-a79a-f09178f8d770",
   "metadata": {
    "tags": []
   },
   "outputs": [
    {
     "data": {
      "image/png": "[encoded data removed]",
      "text/plain": [
       "<Figure size 600x600 with 1 Axes>"
      ]
     },
     "metadata": {},
     "output_type": "display_data"
    }
   ],
   "source": [
    "# Confusion Matrix\n",
    "print_confusion_matrix(test_labels, vgg_prediction_labels)"
   ]
  },
  {
   "cell_type": "code",
   "execution_count": 128,
   "id": "be822e46-4b3f-43ee-883c-6edda0d1dcca",
   "metadata": {
    "tags": []
   },
   "outputs": [
    {
     "name": "stdout",
     "output_type": "stream",
     "text": [
      "              precision    recall  f1-score   support\n",
      "\n",
      "           0       0.77      0.65      0.70       115\n",
      "           1       0.70      0.80      0.74       115\n",
      "\n",
      "    accuracy                           0.73       230\n",
      "   macro avg       0.73      0.73      0.72       230\n",
      "weighted avg       0.73      0.73      0.72       230\n",
      "\n"
     ]
    }
   ],
   "source": [
    "# Classification report\n",
    "vgg_classification_report = classification_report(test_labels, vgg_prediction_labels)\n",
    "print(vgg_classification_report)"
   ]
  },
  {
   "cell_type": "markdown",
   "id": "46b45e5a-45ec-4cec-bc5b-f0bdb0a785bb",
   "metadata": {},
   "source": [
    "## AUC-ROC Scores For All Models"
   ]
  },
  {
   "cell_type": "code",
   "execution_count": 112,
   "id": "cc612b26-96aa-4641-802b-996093bf3d28",
   "metadata": {
    "tags": []
   },
   "outputs": [
    {
     "name": "stdout",
     "output_type": "stream",
     "text": [
      "AUC-ROC Score for Initial Model: 0.7173913043478259\n",
      "AUC-ROC Score for Adjusted Model: 0.7043478260869565\n",
      "AUC-ROC Score for the Best Hyper-Parameters Model: 0.7260869565217392\n",
      "AUC-ROC Score for VGG16 Model: 0.7347826086956523\n"
     ]
    }
   ],
   "source": [
    "initial_auc_roc = roc_auc_score(test_labels, initial_model_prediction_labels)\n",
    "print(\"AUC-ROC Score for Initial Model:\", initial_auc_roc)\n",
    "\n",
    "adjusted_auc_roc = roc_auc_score(test_labels, adjusted_model_prediction_labels)\n",
    "print(\"AUC-ROC Score for Adjusted Model:\", adjusted_auc_roc)\n",
    "\n",
    "best_hyper_param_auc_roc = roc_auc_score(test_labels, best_hyper_model_prediction_labels)\n",
    "print(\"AUC-ROC Score for the Best Hyper-Parameters Model:\", best_hyper_param_auc_roc)\n",
    "\n",
    "vgg_auc_roc = roc_auc_score(test_labels, vgg_prediction_labels)\n",
    "print(\"AUC-ROC Score for VGG16 Model:\", vgg_auc_roc)"
   ]
  },
  {
   "cell_type": "code",
   "execution_count": null,
   "id": "4f3e76c5-bb94-45d9-873a-3972316999ca",
   "metadata": {},
   "outputs": [],
   "source": []
  }
 ],
 "metadata": {
  "kernelspec": {
   "display_name": "Python 3 (ipykernel)",
   "language": "python",
   "name": "python3"
  },
  "language_info": {
   "codemirror_mode": {
    "name": "ipython",
    "version": 3
   },
   "file_extension": ".py",
   "mimetype": "text/x-python",
   "name": "python",
   "nbconvert_exporter": "python",
   "pygments_lexer": "ipython3",
   "version": "3.10.10"
  }
 },
 "nbformat": 4,
 "nbformat_minor": 5
}
