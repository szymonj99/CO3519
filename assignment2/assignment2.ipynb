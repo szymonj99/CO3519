{
 "cells": [
  {
   "cell_type": "markdown",
   "id": "7fc3e372",
   "metadata": {},
   "source": [
    "# Skin Cancer Classification\n",
    "Note: The files used here are not attached to this repository."
   ]
  },
  {
   "cell_type": "code",
   "execution_count": 1,
   "id": "719f33ce",
   "metadata": {
    "tags": []
   },
   "outputs": [
    {
     "name": "stdout",
     "output_type": "stream",
     "text": [
      "Collecting imblearn\n",
      "  Downloading imblearn-0.0-py2.py3-none-any.whl (1.9 kB)\n",
      "Collecting keras-tuner\n",
      "  Downloading keras_tuner-1.3.5-py3-none-any.whl (176 kB)\n",
      "\u001b[2K     \u001b[90m━━━━━━━━━━━━━━━━━━━━━━━━━━━━━━━━━━━━━━━\u001b[0m \u001b[32m176.1/176.1 kB\u001b[0m \u001b[31m1.9 MB/s\u001b[0m eta \u001b[36m0:00:00\u001b[0ma \u001b[36m0:00:01\u001b[0m\n",
      "\u001b[?25hCollecting opencv-python\n",
      "  Downloading opencv_python-4.7.0.72-cp37-abi3-manylinux_2_17_x86_64.manylinux2014_x86_64.whl (61.8 MB)\n",
      "\u001b[2K     \u001b[90m━━━━━━━━━━━━━━━━━━━━━━━━━━━━━━━━━━━━━━━━\u001b[0m \u001b[32m61.8/61.8 MB\u001b[0m \u001b[31m6.6 MB/s\u001b[0m eta \u001b[36m0:00:00\u001b[0m00:01\u001b[0m00:01\u001b[0m\n",
      "\u001b[?25hCollecting imbalanced-learn\n",
      "  Downloading imbalanced_learn-0.10.1-py3-none-any.whl (226 kB)\n",
      "\u001b[2K     \u001b[90m━━━━━━━━━━━━━━━━━━━━━━━━━━━━━━━━━━━━━━━\u001b[0m \u001b[32m226.0/226.0 kB\u001b[0m \u001b[31m6.5 MB/s\u001b[0m eta \u001b[36m0:00:00\u001b[0m00:01\u001b[0m\n",
      "\u001b[?25hCollecting kt-legacy\n",
      "  Downloading kt_legacy-1.0.5-py3-none-any.whl (9.6 kB)\n",
      "Requirement already satisfied: requests in /opt/conda/lib/python3.10/site-packages (from keras-tuner) (2.28.2)\n",
      "Requirement already satisfied: packaging in /opt/conda/lib/python3.10/site-packages (from keras-tuner) (23.0)\n",
      "Requirement already satisfied: numpy>=1.17.0 in /opt/conda/lib/python3.10/site-packages (from opencv-python) (1.23.5)\n",
      "Requirement already satisfied: joblib>=1.1.1 in /opt/conda/lib/python3.10/site-packages (from imbalanced-learn->imblearn) (1.2.0)\n",
      "Requirement already satisfied: threadpoolctl>=2.0.0 in /opt/conda/lib/python3.10/site-packages (from imbalanced-learn->imblearn) (3.1.0)\n",
      "Requirement already satisfied: scikit-learn>=1.0.2 in /opt/conda/lib/python3.10/site-packages (from imbalanced-learn->imblearn) (1.2.2)\n",
      "Requirement already satisfied: scipy>=1.3.2 in /opt/conda/lib/python3.10/site-packages (from imbalanced-learn->imblearn) (1.10.1)\n",
      "Requirement already satisfied: charset-normalizer<4,>=2 in /opt/conda/lib/python3.10/site-packages (from requests->keras-tuner) (3.1.0)\n",
      "Requirement already satisfied: idna<4,>=2.5 in /opt/conda/lib/python3.10/site-packages (from requests->keras-tuner) (3.4)\n",
      "Requirement already satisfied: certifi>=2017.4.17 in /opt/conda/lib/python3.10/site-packages (from requests->keras-tuner) (2022.12.7)\n",
      "Requirement already satisfied: urllib3<1.27,>=1.21.1 in /opt/conda/lib/python3.10/site-packages (from requests->keras-tuner) (1.26.15)\n",
      "Installing collected packages: kt-legacy, opencv-python, keras-tuner, imbalanced-learn, imblearn\n",
      "Successfully installed imbalanced-learn-0.10.1 imblearn-0.0 keras-tuner-1.3.5 kt-legacy-1.0.5 opencv-python-4.7.0.72\n"
     ]
    },
    {
     "name": "stderr",
     "output_type": "stream",
     "text": [
      "2023-04-15 04:57:01.260664: I tensorflow/core/platform/cpu_feature_guard.cc:193] This TensorFlow binary is optimized with oneAPI Deep Neural Network Library (oneDNN) to use the following CPU instructions in performance-critical operations:  AVX2 FMA\n",
      "To enable them in other operations, rebuild TensorFlow with the appropriate compiler flags.\n",
      "2023-04-15 04:57:01.792127: E tensorflow/stream_executor/cuda/cuda_blas.cc:2981] Unable to register cuBLAS factory: Attempting to register factory for plugin cuBLAS when one has already been registered\n",
      "2023-04-15 04:57:03.072502: W tensorflow/stream_executor/platform/default/dso_loader.cc:64] Could not load dynamic library 'libnvinfer.so.7'; dlerror: libnvinfer.so.7: cannot open shared object file: No such file or directory\n",
      "2023-04-15 04:57:03.072646: W tensorflow/stream_executor/platform/default/dso_loader.cc:64] Could not load dynamic library 'libnvinfer_plugin.so.7'; dlerror: libnvinfer_plugin.so.7: cannot open shared object file: No such file or directory\n",
      "2023-04-15 04:57:03.072656: W tensorflow/compiler/tf2tensorrt/utils/py_utils.cc:38] TF-TRT Warning: Cannot dlopen some TensorRT libraries. If you would like to use Nvidia GPU with TensorRT, please make sure the missing libraries mentioned above are installed properly.\n"
     ]
    },
    {
     "name": "stdout",
     "output_type": "stream",
     "text": [
      "Num GPUs Available:  1\n"
     ]
    },
    {
     "name": "stderr",
     "output_type": "stream",
     "text": [
      "2023-04-15 04:57:06.214046: I tensorflow/stream_executor/cuda/cuda_gpu_executor.cc:966] could not open file to read NUMA node: /sys/bus/pci/devices/0000:01:00.0/numa_node\n",
      "Your kernel may have been built without NUMA support.\n",
      "2023-04-15 04:57:06.293647: I tensorflow/stream_executor/cuda/cuda_gpu_executor.cc:966] could not open file to read NUMA node: /sys/bus/pci/devices/0000:01:00.0/numa_node\n",
      "Your kernel may have been built without NUMA support.\n",
      "2023-04-15 04:57:06.294022: I tensorflow/stream_executor/cuda/cuda_gpu_executor.cc:966] could not open file to read NUMA node: /sys/bus/pci/devices/0000:01:00.0/numa_node\n",
      "Your kernel may have been built without NUMA support.\n"
     ]
    }
   ],
   "source": [
    "# Load libraries\n",
    "!pip install imblearn keras-tuner opencv-python\n",
    "from tensorflow import keras\n",
    "import pandas as pd\n",
    "import numpy as np\n",
    "from matplotlib import pyplot as plt\n",
    "import seaborn as sns\n",
    "from sklearn.metrics import f1_score\n",
    "from tensorflow.keras.models import Sequential\n",
    "from tensorflow.keras.layers import Dense\n",
    "from tensorflow.keras.wrappers.scikit_learn import KerasClassifier\n",
    "from tensorflow.keras.preprocessing.image import ImageDataGenerator\n",
    "from imblearn.under_sampling import RandomUnderSampler\n",
    "from tensorflow.keras.utils import Sequence\n",
    "from tensorflow.keras.models import Model\n",
    "from tensorflow.keras.layers import Input, Dense, Conv2D, MaxPooling2D, Flatten, concatenate, Dropout, GlobalAveragePooling2D, BatchNormalization\n",
    "from imblearn.pipeline import Pipeline\n",
    "from sklearn.model_selection import train_test_split\n",
    "import random\n",
    "from keras_tuner import HyperModel\n",
    "from keras_tuner.tuners import RandomSearch\n",
    "from keras_tuner.engine.hyperparameters import HyperParameters as hp\n",
    "import tensorflow as tf\n",
    "from tensorflow.keras.preprocessing import image\n",
    "from tensorflow.keras.applications.vgg16 import VGG16, preprocess_input\n",
    "from sklearn.metrics import confusion_matrix, ConfusionMatrixDisplay, f1_score, precision_score, recall_score, accuracy_score, classification_report, roc_auc_score\n",
    "from keras_tuner import Objective\n",
    "from tensorflow.keras.optimizers import Adam\n",
    "from keras.callbacks import EarlyStopping\n",
    "from sklearn.utils import class_weight\n",
    "import cv2\n",
    "import shutil\n",
    "import os\n",
    "\n",
    "print(\"Num GPUs Available: \", len(tf.config.list_physical_devices(\"GPU\")))\n",
    "\n",
    "%matplotlib inline"
   ]
  },
  {
   "cell_type": "markdown",
   "id": "411005d3-168a-4520-84ea-bc8148824f99",
   "metadata": {},
   "source": [
    "# Constants"
   ]
  },
  {
   "cell_type": "code",
   "execution_count": 2,
   "id": "d9e6bbc8-76b3-4f24-9fd1-7b73b7ad53c0",
   "metadata": {
    "tags": []
   },
   "outputs": [],
   "source": [
    "# Change this when you are running this yourself.\n",
    "IMAGE_PATH = \"/home/jovyan/work/ai/train\"\n",
    "OUTPUT_IMAGE_PATH_DOCKER = \"/home/jovyan/work/tmp\"\n",
    "KERAS_IMAGE_CONFIG = (128, 128, 1) # 128 x 128, greyscale (1 channel)\n",
    "KERAS_BATCH_SIZE = 16\n",
    "IMAGE_FILENAME_COLUMN = \"image_name\"\n",
    "TARGET_COLUMN = \"target\"\n",
    "CLASS_MODE = \"binary\"\n",
    "COLOUR_MODE = \"grayscale\"\n",
    "TRUTH_FILE = \"/home/jovyan/work/ai/ISIC_2020_Training_GroundTruth_v2.csv\"\n",
    "CANCEROUS = \"malignant\"\n",
    "NON_CANCEROUS = \"benign\""
   ]
  },
  {
   "cell_type": "code",
   "execution_count": 3,
   "id": "255e4402",
   "metadata": {
    "tags": []
   },
   "outputs": [],
   "source": [
    "training_ground_truth = pd.read_csv(TRUTH_FILE)"
   ]
  },
  {
   "cell_type": "markdown",
   "id": "8bfc0200",
   "metadata": {},
   "source": [
    "# Data Preparation"
   ]
  },
  {
   "cell_type": "code",
   "execution_count": 4,
   "id": "00f81455",
   "metadata": {
    "tags": []
   },
   "outputs": [],
   "source": [
    "# Null values\n",
    "training_ground_truth.dropna(inplace=True)"
   ]
  },
  {
   "cell_type": "code",
   "execution_count": 5,
   "id": "48635f44",
   "metadata": {
    "tags": []
   },
   "outputs": [],
   "source": [
    "# Add the `.jpg` extension\n",
    "training_ground_truth[IMAGE_FILENAME_COLUMN] = training_ground_truth[IMAGE_FILENAME_COLUMN].apply(lambda x: f\"{x}.jpg\")"
   ]
  },
  {
   "cell_type": "code",
   "execution_count": 6,
   "id": "4e15716c",
   "metadata": {
    "tags": []
   },
   "outputs": [],
   "source": [
    "# Extract the target\n",
    "training_ground_truth_y = training_ground_truth[TARGET_COLUMN]\n",
    "training_ground_truth.drop(TARGET_COLUMN, axis=1, inplace=True)"
   ]
  },
  {
   "cell_type": "code",
   "execution_count": 7,
   "id": "92ec2cb6",
   "metadata": {
    "tags": []
   },
   "outputs": [],
   "source": [
    "# We only care about the image name and the target\n",
    "training_ground_truth.drop([\"patient_id\", \"lesion_id\", \"diagnosis\", \"sex\", \"age_approx\", \"anatom_site_general_challenge\", \"benign_malignant\"], axis=1, inplace=True)"
   ]
  },
  {
   "cell_type": "code",
   "execution_count": 8,
   "id": "201778c7",
   "metadata": {
    "scrolled": true,
    "tags": []
   },
   "outputs": [
    {
     "name": "stdout",
     "output_type": "stream",
     "text": [
      "<class 'pandas.core.frame.DataFrame'>\n",
      "Index: 32531 entries, 0 to 33125\n",
      "Data columns (total 1 columns):\n",
      " #   Column      Non-Null Count  Dtype \n",
      "---  ------      --------------  ----- \n",
      " 0   image_name  32531 non-null  object\n",
      "dtypes: object(1)\n",
      "memory usage: 508.3+ KB\n"
     ]
    }
   ],
   "source": [
    "training_ground_truth.info()"
   ]
  },
  {
   "cell_type": "code",
   "execution_count": 9,
   "id": "eae4beba",
   "metadata": {
    "tags": []
   },
   "outputs": [
    {
     "name": "stdout",
     "output_type": "stream",
     "text": [
      "<class 'pandas.core.series.Series'>\n",
      "Index: 32531 entries, 0 to 33125\n",
      "Series name: target\n",
      "Non-Null Count  Dtype\n",
      "--------------  -----\n",
      "32531 non-null  int64\n",
      "dtypes: int64(1)\n",
      "memory usage: 508.3 KB\n"
     ]
    }
   ],
   "source": [
    "training_ground_truth_y.info()"
   ]
  },
  {
   "cell_type": "markdown",
   "id": "73189ce3",
   "metadata": {},
   "source": [
    "# More Data Exploration Post-Cleaning"
   ]
  },
  {
   "cell_type": "code",
   "execution_count": 10,
   "id": "eb284f0c",
   "metadata": {
    "tags": []
   },
   "outputs": [],
   "source": [
    "# Balanced undersampling\n",
    "undersampler = RandomUnderSampler(sampling_strategy=1.0, random_state=random.randint(0, 2**32 - 1))\n",
    "\n",
    "undersampled_x, undersampled_y = undersampler.fit_resample(training_ground_truth, training_ground_truth_y)"
   ]
  },
  {
   "cell_type": "code",
   "execution_count": 11,
   "id": "b0a141c3-ca50-4b2a-ba11-8366f415e925",
   "metadata": {
    "tags": []
   },
   "outputs": [],
   "source": [
    "# concatenate the variables and labels\n",
    "undersampled_df = pd.concat([undersampled_x, undersampled_y], axis=1)"
   ]
  },
  {
   "cell_type": "code",
   "execution_count": 12,
   "id": "bbaaa202-9adc-4c27-b675-c012d86820f7",
   "metadata": {
    "tags": []
   },
   "outputs": [
    {
     "name": "stdout",
     "output_type": "stream",
     "text": [
      "<class 'pandas.core.frame.DataFrame'>\n",
      "RangeIndex: 1150 entries, 0 to 1149\n",
      "Data columns (total 2 columns):\n",
      " #   Column      Non-Null Count  Dtype \n",
      "---  ------      --------------  ----- \n",
      " 0   image_name  1150 non-null   object\n",
      " 1   target      1150 non-null   int64 \n",
      "dtypes: int64(1), object(1)\n",
      "memory usage: 18.1+ KB\n"
     ]
    }
   ],
   "source": [
    "undersampled_df.info()"
   ]
  },
  {
   "cell_type": "code",
   "execution_count": 13,
   "id": "f3734755",
   "metadata": {
    "tags": []
   },
   "outputs": [
    {
     "name": "stdout",
     "output_type": "stream",
     "text": [
      "Train, validate and test (the actual testing happens later) lengths:\n",
      "690\n",
      "230\n",
      "230\n"
     ]
    }
   ],
   "source": [
    "# Split into training and validation. The testing dataset is provided separately under \"./testing\" (or \"./test\"?)\n",
    "# However, let's also split the training test further into train_df and temp_test_df. Maybe.\n",
    "\n",
    "train_df, validate_df = train_test_split(undersampled_df, test_size=0.2, random_state=random.randint(0, 2**32 - 1), stratify=undersampled_df[TARGET_COLUMN])\n",
    "\n",
    "train_df, test_df = train_test_split(train_df, test_size=0.2 / (0.6 + 0.2), random_state=random.randint(0, 2**32 - 1), stratify=train_df[TARGET_COLUMN])\n",
    "\n",
    "print(\"Train, validate and test (the actual testing happens later) lengths:\")\n",
    "print(len(train_df))\n",
    "print(len(validate_df))\n",
    "print(len(test_df))"
   ]
  },
  {
   "cell_type": "markdown",
   "id": "945ec7b1-a77f-4048-b2e0-0286a09d516e",
   "metadata": {},
   "source": [
    "## Docker - Image Copying"
   ]
  },
  {
   "cell_type": "code",
   "execution_count": 14,
   "id": "7420a911-b5ff-4159-a7b7-d514071f8b51",
   "metadata": {
    "tags": []
   },
   "outputs": [],
   "source": [
    "def copy_images(df):\n",
    "    src_dir = IMAGE_PATH\n",
    "    dst_dir = OUTPUT_IMAGE_PATH_DOCKER\n",
    "    \n",
    "    # Check if the destination directory exists; if not, create it\n",
    "    if not os.path.exists(dst_dir):\n",
    "        os.makedirs(dst_dir)\n",
    "\n",
    "    for index, row in df.iterrows():\n",
    "        image_name_to_copy = row[IMAGE_FILENAME_COLUMN]\n",
    "        src_path = os.path.join(src_dir, image_name_to_copy)\n",
    "        dst_path = os.path.join(dst_dir, image_name_to_copy)\n",
    "        \n",
    "        if not os.path.exists(dst_path):\n",
    "            shutil.copy(src_path, dst_path)"
   ]
  },
  {
   "cell_type": "code",
   "execution_count": 15,
   "id": "461465a6-ed37-469c-8732-2511ab18b9af",
   "metadata": {
    "tags": []
   },
   "outputs": [],
   "source": [
    "# If in Docker:\n",
    "# Change this if you are not running in Docker.\n",
    "in_docker = True\n",
    "\n",
    "if in_docker:\n",
    "    copy_images(train_df)\n",
    "    copy_images(validate_df)\n",
    "    copy_images(test_df)\n",
    "    IMAGE_PATH = OUTPUT_IMAGE_PATH_DOCKER"
   ]
  },
  {
   "cell_type": "markdown",
   "id": "921b9abf",
   "metadata": {},
   "source": [
    "# Image Loading From Disk"
   ]
  },
  {
   "cell_type": "code",
   "execution_count": 16,
   "id": "7f370e9b-b018-4326-9609-c08600a00a51",
   "metadata": {
    "tags": []
   },
   "outputs": [],
   "source": [
    "# Note: Do not perform random transformations on the validation or testing set.\n",
    "def load_images(df):\n",
    "    temp_images = []\n",
    "    \n",
    "    for index, row in df.iterrows():\n",
    "        image_name = row[IMAGE_FILENAME_COLUMN]\n",
    "        temp_image = image.load_img(os.path.join(IMAGE_PATH, image_name), target_size=(KERAS_IMAGE_CONFIG[0], KERAS_IMAGE_CONFIG[1]), color_mode=COLOUR_MODE)\n",
    "        temp_image_array = image.img_to_array(temp_image) / 255.0 # Normalising the image pixels\n",
    "        temp_images.append(temp_image_array)\n",
    "    \n",
    "    return temp_images"
   ]
  },
  {
   "cell_type": "code",
   "execution_count": 17,
   "id": "3824fe9b-ef70-4548-9acc-5c807f734035",
   "metadata": {
    "tags": []
   },
   "outputs": [],
   "source": [
    "train_images = load_images(train_df)\n",
    "\n",
    "validation_images = load_images(validate_df)\n",
    "\n",
    "test_images = load_images(test_df)"
   ]
  },
  {
   "cell_type": "code",
   "execution_count": 18,
   "id": "65d04cdf-a497-48dc-9739-65b062a2b4d1",
   "metadata": {
    "tags": []
   },
   "outputs": [],
   "source": [
    "train_labels = train_df[TARGET_COLUMN]\n",
    "validation_labels = validate_df[TARGET_COLUMN]\n",
    "test_labels = test_df[TARGET_COLUMN]"
   ]
  },
  {
   "cell_type": "code",
   "execution_count": 19,
   "id": "1533ed7f-07c4-4dd6-bf30-79e63bc0c8c2",
   "metadata": {
    "tags": []
   },
   "outputs": [
    {
     "name": "stdout",
     "output_type": "stream",
     "text": [
      "690\n",
      "690\n",
      "230\n",
      "230\n",
      "230\n",
      "230\n"
     ]
    }
   ],
   "source": [
    "print(len(train_images))\n",
    "print(len(train_labels))\n",
    "\n",
    "print(len(validation_images))\n",
    "print(len(validation_labels))\n",
    "\n",
    "print(len(test_images))\n",
    "print(len(test_labels))"
   ]
  },
  {
   "cell_type": "markdown",
   "id": "1ed9ef3a",
   "metadata": {
    "tags": []
   },
   "source": [
    "# Model Creation"
   ]
  },
  {
   "cell_type": "code",
   "execution_count": 20,
   "id": "6fe60b7a-c82e-48a2-9fc9-a6d257bb8518",
   "metadata": {
    "tags": []
   },
   "outputs": [],
   "source": [
    "def blur_image(image):\n",
    "    blurred_image = cv2.GaussianBlur(image, (5, 5), 0) # Kernel size of 5 by 5, with a standard deviation of 0.\n",
    "    return blurred_image.reshape(image.shape)"
   ]
  },
  {
   "cell_type": "code",
   "execution_count": 21,
   "id": "25352c57-0c33-4e5d-b54b-859c6d02089d",
   "metadata": {
    "tags": []
   },
   "outputs": [],
   "source": [
    "def add_noise(image):\n",
    "    noise_factor = 0.025 # This could be changed in the future\n",
    "    noisy_image = image + noise_factor * np.random.normal(loc=0.0, scale=1.0, size=image.shape)\n",
    "    noisy_image = np.clip(noisy_image, 0.0, 1.0)\n",
    "    return noisy_image.reshape(image.shape)"
   ]
  },
  {
   "cell_type": "code",
   "execution_count": 22,
   "id": "bc7a0555-155c-4d57-923d-b4fd9c6e3faf",
   "metadata": {
    "tags": []
   },
   "outputs": [],
   "source": [
    "def combined_random_preprocessing(image):\n",
    "    if random.random() < 0.3:\n",
    "        image = blur_image(image)\n",
    "        \n",
    "    if random.random() < 0.3:\n",
    "        image = add_noise(image)\n",
    "        \n",
    "    return image"
   ]
  },
  {
   "cell_type": "code",
   "execution_count": 23,
   "id": "f6a42185-4d67-4bcd-a44e-1c6815efacd4",
   "metadata": {
    "tags": []
   },
   "outputs": [],
   "source": [
    "def print_confusion_matrix(true_labels, predictions):\n",
    "    temp_confusion_matrix = confusion_matrix(true_labels, predictions)\n",
    "    \n",
    "    # Calculate what percentage each class is equal to.\n",
    "    temp_percentages = temp_confusion_matrix.astype(\"float\") / temp_confusion_matrix.sum(axis=1)[:, np.newaxis]\n",
    "    temp_percentages = np.round(temp_percentages * 100, 2) # Round to 2 decimal places\n",
    "    \n",
    "    # Also, as seaborn doesn't include the values by default, we need to add them\n",
    "    confusion_matrix_labels = [[\"True Negative\\n{}\\n{}%\".format(temp_confusion_matrix[0, 0], temp_percentages[0, 0]),\n",
    "                                \"False Positive\\n{}\\n{}%\".format(temp_confusion_matrix[0, 1], temp_percentages[0, 1])],\n",
    "                               [\"False Negative\\n{}\\n{}%\".format(temp_confusion_matrix[1, 0], temp_percentages[1, 0]),\n",
    "                                \"True Positive\\n{}\\n{}%\".format(temp_confusion_matrix[1, 1], temp_percentages[1, 1])]]\n",
    "    \n",
    "    plt.figure(figsize=(6, 6))\n",
    "    \n",
    "    # Use Seaborn so we can add annotations\n",
    "    sns.heatmap(temp_confusion_matrix, annot=confusion_matrix_labels, fmt=\"\", cmap=\"Blues\", cbar=False, xticklabels=False, yticklabels=False)\n",
    "    \n",
    "    plt.xlabel(\"Predicted\")\n",
    "    plt.ylabel(\"True\")\n",
    "    plt.show()"
   ]
  },
  {
   "cell_type": "code",
   "execution_count": 24,
   "id": "d24519da",
   "metadata": {
    "tags": []
   },
   "outputs": [],
   "source": [
    "class F1Score(tf.keras.metrics.Metric):\n",
    "    def __init__(self, name=\"f1_score\", **kwargs):\n",
    "        super(F1Score, self).__init__(name=name, **kwargs)\n",
    "        self.precision = tf.keras.metrics.Precision()\n",
    "        self.recall = tf.keras.metrics.Recall()\n",
    "\n",
    "    def update_state(self, y_true, y_pred, sample_weight=None):\n",
    "        self.precision.update_state(y_true, y_pred, sample_weight)\n",
    "        self.recall.update_state(y_true, y_pred, sample_weight)\n",
    "\n",
    "    def result(self):\n",
    "        precision = self.precision.result()\n",
    "        recall = self.recall.result()\n",
    "        f1_score = 2 * ((precision * recall) / (precision + recall + 1e-7)) # Prevent division by zero.\n",
    "        return f1_score\n",
    "\n",
    "    def reset_state(self):\n",
    "        self.precision.reset_state()\n",
    "        self.recall.reset_state()"
   ]
  },
  {
   "cell_type": "code",
   "execution_count": 25,
   "id": "60016172-4378-45d2-8ca2-8b86cc9aaf60",
   "metadata": {
    "tags": []
   },
   "outputs": [],
   "source": [
    "train_data_generator = ImageDataGenerator(\n",
    "    rotation_range=360,\n",
    "    #preprocessing_function=combined_random_preprocessing,\n",
    "    horizontal_flip=True,\n",
    "    vertical_flip=True\n",
    ") # no normalising here as that has already been done when loading the images from disk into memory"
   ]
  },
  {
   "cell_type": "code",
   "execution_count": 26,
   "id": "b40deeea-cc1d-437e-8dae-f7bea2b3bead",
   "metadata": {
    "tags": []
   },
   "outputs": [],
   "source": [
    "early_stopping = EarlyStopping(monitor=\"val_loss\", patience=5, verbose=1, restore_best_weights=True)"
   ]
  },
  {
   "cell_type": "markdown",
   "id": "cc3f568f-93f4-4354-9115-76349c76d50b",
   "metadata": {},
   "source": [
    "## CNN - No Hyper-Parameters"
   ]
  },
  {
   "cell_type": "code",
   "execution_count": 67,
   "id": "35c97ef9",
   "metadata": {
    "tags": []
   },
   "outputs": [],
   "source": [
    "# No hyper-parameters, following what `Introduction to convolutional neural network using Keras; an understanding from a statistician` did\n",
    "\n",
    "initial_model = Sequential([\n",
    "    Conv2D(filters=32,\n",
    "           kernel_size=(3,3),\n",
    "           activation=\"relu\",\n",
    "           input_shape=KERAS_IMAGE_CONFIG),\n",
    "    Conv2D(filters=64,\n",
    "           kernel_size=(3,3),\n",
    "           activation=\"relu\"),\n",
    "    MaxPooling2D(pool_size=(2,2)),\n",
    "    Dropout(0.25),\n",
    "    Flatten(),\n",
    "    Dense(units=128, activation=\"relu\"),\n",
    "    Dropout(0.5),\n",
    "    Dense(units=1, activation=\"sigmoid\")\n",
    "])"
   ]
  },
  {
   "cell_type": "code",
   "execution_count": 68,
   "id": "27aa3619",
   "metadata": {
    "tags": []
   },
   "outputs": [],
   "source": [
    "initial_model.compile(optimizer=Adam(learning_rate=0.001), loss=\"binary_crossentropy\", metrics=[tf.keras.metrics.AUC()])"
   ]
  },
  {
   "cell_type": "code",
   "execution_count": 69,
   "id": "42c0b926-87ed-4b92-8265-992147cbc8ff",
   "metadata": {
    "tags": []
   },
   "outputs": [
    {
     "name": "stdout",
     "output_type": "stream",
     "text": [
      "Model: \"sequential_1\"\n",
      "_________________________________________________________________\n",
      " Layer (type)                Output Shape              Param #   \n",
      "=================================================================\n",
      " conv2d_3 (Conv2D)           (None, 126, 126, 32)      320       \n",
      "                                                                 \n",
      " conv2d_4 (Conv2D)           (None, 124, 124, 64)      18496     \n",
      "                                                                 \n",
      " max_pooling2d_3 (MaxPooling  (None, 62, 62, 64)       0         \n",
      " 2D)                                                             \n",
      "                                                                 \n",
      " dropout_2 (Dropout)         (None, 62, 62, 64)        0         \n",
      "                                                                 \n",
      " flatten_1 (Flatten)         (None, 246016)            0         \n",
      "                                                                 \n",
      " dense_5 (Dense)             (None, 128)               31490176  \n",
      "                                                                 \n",
      " dropout_3 (Dropout)         (None, 128)               0         \n",
      "                                                                 \n",
      " dense_6 (Dense)             (None, 1)                 129       \n",
      "                                                                 \n",
      "=================================================================\n",
      "Total params: 31,509,121\n",
      "Trainable params: 31,509,121\n",
      "Non-trainable params: 0\n",
      "_________________________________________________________________\n",
      "None\n"
     ]
    }
   ],
   "source": [
    "print(initial_model.summary())"
   ]
  },
  {
   "cell_type": "code",
   "execution_count": 70,
   "id": "a3b8370e",
   "metadata": {
    "tags": []
   },
   "outputs": [
    {
     "name": "stdout",
     "output_type": "stream",
     "text": [
      "Epoch 1/15\n",
      "44/44 [==============================] - 3s 56ms/step - loss: 0.9511 - auc_2: 0.5113 - val_loss: 0.6925 - val_auc_2: 0.5389\n",
      "Epoch 2/15\n",
      "44/44 [==============================] - 2s 45ms/step - loss: 0.6876 - auc_2: 0.5498 - val_loss: 0.6888 - val_auc_2: 0.5764\n",
      "Epoch 3/15\n",
      "44/44 [==============================] - 2s 38ms/step - loss: 0.6807 - auc_2: 0.6171 - val_loss: 0.7015 - val_auc_2: 0.7000\n",
      "Epoch 4/15\n",
      "44/44 [==============================] - 2s 39ms/step - loss: 0.6860 - auc_2: 0.6152 - val_loss: 0.6893 - val_auc_2: 0.5909\n",
      "Epoch 5/15\n",
      "44/44 [==============================] - 2s 38ms/step - loss: 0.6842 - auc_2: 0.6045 - val_loss: 0.6924 - val_auc_2: 0.6579\n",
      "Epoch 6/15\n",
      "44/44 [==============================] - 2s 49ms/step - loss: 0.6771 - auc_2: 0.6516 - val_loss: 0.6867 - val_auc_2: 0.6298\n",
      "Epoch 7/15\n",
      "44/44 [==============================] - 2s 40ms/step - loss: 0.6761 - auc_2: 0.6288 - val_loss: 0.6888 - val_auc_2: 0.6738\n",
      "Epoch 8/15\n",
      "44/44 [==============================] - 2s 39ms/step - loss: 0.6838 - auc_2: 0.5958 - val_loss: 0.6876 - val_auc_2: 0.6252\n",
      "Epoch 9/15\n",
      "44/44 [==============================] - 2s 39ms/step - loss: 0.6880 - auc_2: 0.5530 - val_loss: 0.6902 - val_auc_2: 0.5424\n",
      "Epoch 10/15\n",
      "44/44 [==============================] - 2s 39ms/step - loss: 0.6852 - auc_2: 0.5219 - val_loss: 0.6905 - val_auc_2: 0.6265\n",
      "Epoch 11/15\n",
      "43/44 [============================>.] - ETA: 0s - loss: 0.6840 - auc_2: 0.5758Restoring model weights from the end of the best epoch: 6.\n",
      "44/44 [==============================] - 2s 41ms/step - loss: 0.6836 - auc_2: 0.5762 - val_loss: 0.6885 - val_auc_2: 0.6235\n",
      "Epoch 11: early stopping\n"
     ]
    }
   ],
   "source": [
    "# Train\n",
    "epochs = 15\n",
    "initial_train_generator = train_data_generator.flow(np.array(train_images), np.array(train_labels), batch_size=KERAS_BATCH_SIZE)\n",
    "initial_history = initial_model.fit(initial_train_generator, validation_data=(np.array(validation_images), np.array(validation_labels)), epochs=epochs, callbacks=[early_stopping])"
   ]
  },
  {
   "cell_type": "code",
   "execution_count": 71,
   "id": "ae40f712",
   "metadata": {
    "tags": []
   },
   "outputs": [
    {
     "data": {
      "image/png": "[encoded data removed]",
      "text/plain": [
       "<Figure size 1000x600 with 1 Axes>"
      ]
     },
     "metadata": {},
     "output_type": "display_data"
    }
   ],
   "source": [
    "# Plot the loss curves for the initial model without hyper parameter tuning\n",
    "plt.figure(figsize=(10, 6))\n",
    "\n",
    "# Plot the loss curves\n",
    "\n",
    "initial_training_loss = initial_history.history[\"loss\"]\n",
    "initial_validation_loss = initial_history.history[\"val_loss\"]\n",
    "\n",
    "plt.plot(initial_training_loss, label=\"Training Loss\")\n",
    "plt.plot(initial_validation_loss, label=\"Validation Loss\")\n",
    "\n",
    "plt.xlabel(\"Epochs\")\n",
    "plt.ylabel(\"Loss\")\n",
    "plt.title(\"Loss Curves for the initial Keras Sequential model with no hyper-parameter tuning\")\n",
    "plt.legend()\n",
    "\n",
    "plt.show()"
   ]
  },
  {
   "cell_type": "code",
   "execution_count": 72,
   "id": "7b14e5cc-a159-404b-b7c3-5abdb791a519",
   "metadata": {
    "tags": []
   },
   "outputs": [
    {
     "name": "stdout",
     "output_type": "stream",
     "text": [
      "8/8 [==============================] - 0s 13ms/step\n"
     ]
    }
   ],
   "source": [
    "# Make predictions using the initial model using the testing dataset\n",
    "initial_model_predictions = initial_model.predict(np.array(test_images))\n",
    "initial_model_prediction_labels = np.round(initial_model_predictions)"
   ]
  },
  {
   "cell_type": "code",
   "execution_count": 73,
   "id": "6a62f52e-bc88-4ace-ae92-8af956f9714b",
   "metadata": {
    "tags": []
   },
   "outputs": [
    {
     "data": {
      "image/png": "[encoded data removed]",
      "text/plain": [
       "<Figure size 600x600 with 1 Axes>"
      ]
     },
     "metadata": {},
     "output_type": "display_data"
    }
   ],
   "source": [
    "# Confusion Matrix\n",
    "print_confusion_matrix(test_labels, initial_model_prediction_labels)"
   ]
  },
  {
   "cell_type": "code",
   "execution_count": 74,
   "id": "49170352-5a64-4bd0-9178-97a75fe99e76",
   "metadata": {
    "tags": []
   },
   "outputs": [
    {
     "name": "stdout",
     "output_type": "stream",
     "text": [
      "              precision    recall  f1-score   support\n",
      "\n",
      "           0       0.56      0.84      0.67       115\n",
      "           1       0.68      0.34      0.45       115\n",
      "\n",
      "    accuracy                           0.59       230\n",
      "   macro avg       0.62      0.59      0.56       230\n",
      "weighted avg       0.62      0.59      0.56       230\n",
      "\n"
     ]
    }
   ],
   "source": [
    "# Classification report\n",
    "initial_classification_report = classification_report(test_labels, initial_model_prediction_labels)\n",
    "print(initial_classification_report)"
   ]
  },
  {
   "cell_type": "markdown",
   "id": "7b4006ae-089d-461b-a662-3efc40cb0585",
   "metadata": {
    "tags": []
   },
   "source": [
    "## Adjusted Initial Model"
   ]
  },
  {
   "cell_type": "code",
   "execution_count": 36,
   "id": "ae24f766-4834-4d58-810e-e566f041decb",
   "metadata": {
    "tags": []
   },
   "outputs": [],
   "source": [
    "adjusted_model = Sequential([\n",
    "    Conv2D(32, (3, 3), activation=\"relu\", input_shape=KERAS_IMAGE_CONFIG),\n",
    "    BatchNormalization(),\n",
    "    MaxPooling2D(pool_size=(2, 2)),\n",
    "    \n",
    "    Conv2D(64, (3, 3), activation=\"relu\"),\n",
    "    BatchNormalization(),\n",
    "    MaxPooling2D(pool_size=(2, 2)),\n",
    "    \n",
    "    Conv2D(128, (3, 3), activation=\"relu\"),\n",
    "    BatchNormalization(),\n",
    "    MaxPooling2D(pool_size=(2, 2)),\n",
    "    \n",
    "    Flatten(),\n",
    "    \n",
    "    Dense(256, activation=\"relu\"),\n",
    "    BatchNormalization(),\n",
    "    Dropout(0.5),\n",
    "    \n",
    "    Dense(128, activation=\"relu\"),\n",
    "    BatchNormalization(),\n",
    "    Dropout(0.5),\n",
    "    \n",
    "    Dense(1, activation=\"sigmoid\")\n",
    "])"
   ]
  },
  {
   "cell_type": "code",
   "execution_count": 37,
   "id": "b04244ad-3376-4373-8c1e-be00e06ce8c8",
   "metadata": {
    "tags": []
   },
   "outputs": [],
   "source": [
    "adjusted_model.compile(optimizer=Adam(learning_rate=0.001), loss=\"binary_crossentropy\", metrics=[tf.keras.metrics.AUC()])"
   ]
  },
  {
   "cell_type": "code",
   "execution_count": 38,
   "id": "98d533df-f7a2-44c0-ba10-7b1dc03bad44",
   "metadata": {
    "tags": []
   },
   "outputs": [
    {
     "name": "stdout",
     "output_type": "stream",
     "text": [
      "Model: \"sequential_1\"\n",
      "_________________________________________________________________\n",
      " Layer (type)                Output Shape              Param #   \n",
      "=================================================================\n",
      " conv2d_2 (Conv2D)           (None, 126, 126, 32)      320       \n",
      "                                                                 \n",
      " batch_normalization (BatchN  (None, 126, 126, 32)     128       \n",
      " ormalization)                                                   \n",
      "                                                                 \n",
      " max_pooling2d_1 (MaxPooling  (None, 63, 63, 32)       0         \n",
      " 2D)                                                             \n",
      "                                                                 \n",
      " conv2d_3 (Conv2D)           (None, 61, 61, 64)        18496     \n",
      "                                                                 \n",
      " batch_normalization_1 (Batc  (None, 61, 61, 64)       256       \n",
      " hNormalization)                                                 \n",
      "                                                                 \n",
      " max_pooling2d_2 (MaxPooling  (None, 30, 30, 64)       0         \n",
      " 2D)                                                             \n",
      "                                                                 \n",
      " conv2d_4 (Conv2D)           (None, 28, 28, 128)       73856     \n",
      "                                                                 \n",
      " batch_normalization_2 (Batc  (None, 28, 28, 128)      512       \n",
      " hNormalization)                                                 \n",
      "                                                                 \n",
      " max_pooling2d_3 (MaxPooling  (None, 14, 14, 128)      0         \n",
      " 2D)                                                             \n",
      "                                                                 \n",
      " flatten_1 (Flatten)         (None, 25088)             0         \n",
      "                                                                 \n",
      " dense_2 (Dense)             (None, 256)               6422784   \n",
      "                                                                 \n",
      " batch_normalization_3 (Batc  (None, 256)              1024      \n",
      " hNormalization)                                                 \n",
      "                                                                 \n",
      " dropout_2 (Dropout)         (None, 256)               0         \n",
      "                                                                 \n",
      " dense_3 (Dense)             (None, 128)               32896     \n",
      "                                                                 \n",
      " batch_normalization_4 (Batc  (None, 128)              512       \n",
      " hNormalization)                                                 \n",
      "                                                                 \n",
      " dropout_3 (Dropout)         (None, 128)               0         \n",
      "                                                                 \n",
      " dense_4 (Dense)             (None, 1)                 129       \n",
      "                                                                 \n",
      "=================================================================\n",
      "Total params: 6,550,913\n",
      "Trainable params: 6,549,697\n",
      "Non-trainable params: 1,216\n",
      "_________________________________________________________________\n",
      "None\n"
     ]
    }
   ],
   "source": [
    "print(adjusted_model.summary())"
   ]
  },
  {
   "cell_type": "code",
   "execution_count": 39,
   "id": "b2ef27ab-d7ff-481b-a6ad-b93fac0c950e",
   "metadata": {
    "tags": []
   },
   "outputs": [
    {
     "name": "stdout",
     "output_type": "stream",
     "text": [
      "Epoch 1/50\n",
      "44/44 [==============================] - 2s 33ms/step - loss: 0.8677 - auc_1: 0.6220 - val_loss: 0.8298 - val_auc_1: 0.6898\n",
      "Epoch 2/50\n",
      "44/44 [==============================] - 1s 24ms/step - loss: 0.8338 - auc_1: 0.6366 - val_loss: 0.6684 - val_auc_1: 0.6854\n",
      "Epoch 3/50\n",
      "44/44 [==============================] - 1s 23ms/step - loss: 0.7759 - auc_1: 0.6542 - val_loss: 0.6857 - val_auc_1: 0.6609\n",
      "Epoch 4/50\n",
      "44/44 [==============================] - 1s 24ms/step - loss: 0.6986 - auc_1: 0.7046 - val_loss: 0.6560 - val_auc_1: 0.6557\n",
      "Epoch 5/50\n",
      "44/44 [==============================] - 1s 23ms/step - loss: 0.7182 - auc_1: 0.6920 - val_loss: 0.7228 - val_auc_1: 0.6634\n",
      "Epoch 6/50\n",
      "44/44 [==============================] - 1s 23ms/step - loss: 0.6604 - auc_1: 0.7196 - val_loss: 0.7661 - val_auc_1: 0.6484\n",
      "Epoch 7/50\n",
      "44/44 [==============================] - 1s 23ms/step - loss: 0.7158 - auc_1: 0.6902 - val_loss: 0.9320 - val_auc_1: 0.6492\n",
      "Epoch 8/50\n",
      "44/44 [==============================] - 1s 23ms/step - loss: 0.6643 - auc_1: 0.7023 - val_loss: 0.6182 - val_auc_1: 0.6898\n",
      "Epoch 9/50\n",
      "44/44 [==============================] - 1s 22ms/step - loss: 0.6940 - auc_1: 0.6795 - val_loss: 0.6203 - val_auc_1: 0.6737\n",
      "Epoch 10/50\n",
      "44/44 [==============================] - 1s 23ms/step - loss: 0.6587 - auc_1: 0.7125 - val_loss: 0.6478 - val_auc_1: 0.6702\n",
      "Epoch 11/50\n",
      "44/44 [==============================] - 1s 23ms/step - loss: 0.6495 - auc_1: 0.7161 - val_loss: 0.6167 - val_auc_1: 0.6907\n",
      "Epoch 12/50\n",
      "44/44 [==============================] - 1s 24ms/step - loss: 0.6432 - auc_1: 0.7093 - val_loss: 0.5929 - val_auc_1: 0.7040\n",
      "Epoch 13/50\n",
      "44/44 [==============================] - 1s 23ms/step - loss: 0.6526 - auc_1: 0.6896 - val_loss: 0.6286 - val_auc_1: 0.7229\n",
      "Epoch 14/50\n",
      "44/44 [==============================] - 1s 23ms/step - loss: 0.6578 - auc_1: 0.6931 - val_loss: 0.6345 - val_auc_1: 0.7513\n",
      "Epoch 15/50\n",
      "44/44 [==============================] - 1s 23ms/step - loss: 0.6273 - auc_1: 0.7122 - val_loss: 0.5681 - val_auc_1: 0.7588\n",
      "Epoch 16/50\n",
      "44/44 [==============================] - 1s 23ms/step - loss: 0.6232 - auc_1: 0.7248 - val_loss: 0.5605 - val_auc_1: 0.7685\n",
      "Epoch 17/50\n",
      "44/44 [==============================] - 1s 23ms/step - loss: 0.5895 - auc_1: 0.7425 - val_loss: 0.5578 - val_auc_1: 0.7563\n",
      "Epoch 18/50\n",
      "44/44 [==============================] - 1s 23ms/step - loss: 0.6062 - auc_1: 0.7404 - val_loss: 0.6679 - val_auc_1: 0.6800\n",
      "Epoch 19/50\n",
      "44/44 [==============================] - 1s 23ms/step - loss: 0.5952 - auc_1: 0.7444 - val_loss: 0.5524 - val_auc_1: 0.7719\n",
      "Epoch 20/50\n",
      "44/44 [==============================] - 1s 23ms/step - loss: 0.5919 - auc_1: 0.7442 - val_loss: 0.5576 - val_auc_1: 0.7803\n",
      "Epoch 21/50\n",
      "44/44 [==============================] - 1s 23ms/step - loss: 0.5859 - auc_1: 0.7546 - val_loss: 0.5649 - val_auc_1: 0.7699\n",
      "Epoch 22/50\n",
      "44/44 [==============================] - 1s 22ms/step - loss: 0.6029 - auc_1: 0.7337 - val_loss: 0.6648 - val_auc_1: 0.7447\n",
      "Epoch 23/50\n",
      "44/44 [==============================] - 1s 23ms/step - loss: 0.5816 - auc_1: 0.7469 - val_loss: 0.5749 - val_auc_1: 0.7743\n",
      "Epoch 24/50\n",
      "43/44 [============================>.] - ETA: 0s - loss: 0.5680 - auc_1: 0.7730Restoring model weights from the end of the best epoch: 19.\n",
      "44/44 [==============================] - 1s 24ms/step - loss: 0.5709 - auc_1: 0.7706 - val_loss: 0.5732 - val_auc_1: 0.7696\n",
      "Epoch 24: early stopping\n"
     ]
    }
   ],
   "source": [
    "# Train\n",
    "adjusted_epochs = 50\n",
    "\n",
    "adjusted_train_generator = train_data_generator.flow(np.array(train_images), np.array(train_labels), batch_size=KERAS_BATCH_SIZE)\n",
    "adjusted_history = adjusted_model.fit(adjusted_train_generator, validation_data=(np.array(validation_images), np.array(validation_labels)), epochs=adjusted_epochs, callbacks=[early_stopping])"
   ]
  },
  {
   "cell_type": "code",
   "execution_count": 40,
   "id": "d590aa3f-2aea-45a9-818a-2fa4300e317f",
   "metadata": {
    "tags": []
   },
   "outputs": [
    {
     "data": {
      "image/png": "[encoded data removed]",
      "text/plain": [
       "<Figure size 1000x500 with 1 Axes>"
      ]
     },
     "metadata": {},
     "output_type": "display_data"
    }
   ],
   "source": [
    "# Plot the loss curves for the initial model without hyper parameter tuning\n",
    "plt.figure(figsize=(10, 5))\n",
    "\n",
    "# Plot the loss curves\n",
    "\n",
    "adjusted_training_loss = adjusted_history.history[\"loss\"]\n",
    "adjusted_validation_loss = adjusted_history.history[\"val_loss\"]\n",
    "\n",
    "plt.plot(adjusted_training_loss, label=\"Training Loss\")\n",
    "plt.plot(adjusted_validation_loss, label=\"Validation Loss\")\n",
    "\n",
    "# Set the labels and title\n",
    "plt.xlabel(\"Epochs\")\n",
    "plt.ylabel(\"Loss\")\n",
    "plt.title(\"Loss Curves for the modified/adjusted Keras Sequential model with no hyper-parameter tuning\")\n",
    "plt.legend()\n",
    "\n",
    "# Display the plot\n",
    "plt.show()"
   ]
  },
  {
   "cell_type": "code",
   "execution_count": 41,
   "id": "f7f3626e-c930-4dec-b7bd-52ebc647d081",
   "metadata": {
    "tags": []
   },
   "outputs": [
    {
     "name": "stdout",
     "output_type": "stream",
     "text": [
      "8/8 [==============================] - 0s 7ms/step\n"
     ]
    }
   ],
   "source": [
    "# Make predictions using the adjusted model using the testing dataset\n",
    "adjusted_model_predictions = adjusted_model.predict(np.array(test_images))\n",
    "adjusted_model_prediction_labels = np.round(adjusted_model_predictions)"
   ]
  },
  {
   "cell_type": "code",
   "execution_count": 42,
   "id": "997ced08-e377-4357-8d1e-9e4ff8d01229",
   "metadata": {
    "tags": []
   },
   "outputs": [
    {
     "data": {
      "image/png": "[encoded data removed]",
      "text/plain": [
       "<Figure size 600x600 with 1 Axes>"
      ]
     },
     "metadata": {},
     "output_type": "display_data"
    }
   ],
   "source": [
    "# Confusion Matrix\n",
    "print_confusion_matrix(test_labels, adjusted_model_prediction_labels)"
   ]
  },
  {
   "cell_type": "code",
   "execution_count": 43,
   "id": "1572a100-df64-4e87-90b3-f45fa9349d31",
   "metadata": {
    "tags": []
   },
   "outputs": [
    {
     "name": "stdout",
     "output_type": "stream",
     "text": [
      "              precision    recall  f1-score   support\n",
      "\n",
      "           0       0.86      0.55      0.67       115\n",
      "           1       0.67      0.91      0.77       115\n",
      "\n",
      "    accuracy                           0.73       230\n",
      "   macro avg       0.77      0.73      0.72       230\n",
      "weighted avg       0.77      0.73      0.72       230\n",
      "\n"
     ]
    }
   ],
   "source": [
    "# Classification report\n",
    "adjusted_classification_report = classification_report(test_labels, adjusted_model_prediction_labels)\n",
    "print(adjusted_classification_report)"
   ]
  },
  {
   "cell_type": "markdown",
   "id": "38b6f5c7-8763-4f66-8bc8-b28e18fd57a0",
   "metadata": {},
   "source": [
    "## CNN - Hyper-Parameters"
   ]
  },
  {
   "cell_type": "code",
   "execution_count": 45,
   "id": "673b02e8-4926-42b9-979d-d460f45f8cea",
   "metadata": {
    "tags": []
   },
   "outputs": [],
   "source": [
    "def build_model(hyper_params):\n",
    "    hyper_model = Sequential()\n",
    "    \n",
    "    hyper_model.add(Conv2D(filters=hyper_params.Int(name=\"conv_1_filter\", min_value=16, max_value=64, step=16),\n",
    "                           kernel_size=hyper_params.Choice(name=\"conv_1_kernel\", values=[3,5]),\n",
    "                           activation=\"relu\",\n",
    "                           input_shape=KERAS_IMAGE_CONFIG)\n",
    "                   )\n",
    "    \n",
    "    hyper_model.add(BatchNormalization())\n",
    "    \n",
    "    hyper_model.add(MaxPooling2D(pool_size=hyper_params.Int(name=\"pool_1_size\", min_value=2, max_value=4, step=1)))\n",
    "    \n",
    "    hyper_model.add(Conv2D(filters=hyper_params.Int(name=\"conv_2_filter\", min_value=32, max_value=64, step=16),\n",
    "                           kernel_size=hyper_params.Choice(name=\"conv_2_kernel\", values=[3,5]),\n",
    "                           activation=\"relu\",\n",
    "                          )\n",
    "                   )\n",
    "    \n",
    "    hyper_model.add(BatchNormalization())\n",
    "    \n",
    "    hyper_model.add(MaxPooling2D(pool_size=hyper_params.Int(name=\"pool_2_size\", min_value=2, max_value=4, step=1)))\n",
    "    \n",
    "    hyper_model.add(Conv2D(filters=hyper_params.Int(name=\"conv_3_filter\", min_value=64, max_value=128, step=32),\n",
    "                           kernel_size=hyper_params.Choice(name=\"conv_3_kernel\", values=[3,5]),\n",
    "                           activation=\"relu\",\n",
    "                          )\n",
    "                   )\n",
    "    \n",
    "    hyper_model.add(BatchNormalization())\n",
    "    \n",
    "    hyper_model.add(MaxPooling2D(pool_size=hyper_params.Int(name=\"pool_3_size\", min_value=2, max_value=4, step=1)))\n",
    "    \n",
    "    hyper_model.add(Flatten())\n",
    "    \n",
    "    hyper_model.add(Dense(units=hyper_params.Int(name=\"dense_1_units\", min_value=64, max_value=256, step=64), activation=\"relu\"))\n",
    "    \n",
    "    hyper_model.add(BatchNormalization())\n",
    "    \n",
    "    hyper_model.add(Dropout(hyper_params.Float(name=\"dropout_1_rate\", min_value=0.1, max_value=0.5, step=0.1)))\n",
    "    \n",
    "    hyper_model.add(Dense(units=hyper_params.Int(name=\"dense_2_units\", min_value=64, max_value=128, step=32), activation=\"relu\"))\n",
    "    \n",
    "    hyper_model.add(BatchNormalization())\n",
    "    \n",
    "    hyper_model.add(Dropout(hyper_params.Float(name=\"dropout_2_rate\", min_value=0.1, max_value=0.5, step=0.1)))\n",
    "    \n",
    "    hyper_model.add(Dense(units=1, activation=\"sigmoid\"))\n",
    "    \n",
    "    hyper_model.compile(optimizer=Adam(hyper_params.Choice(name=\"learning_rate\", values=[1e-2, 1e-3, 1e-4])),\n",
    "                  loss=\"binary_crossentropy\",\n",
    "                  metrics=[tf.keras.metrics.AUC()])\n",
    "    \n",
    "    return hyper_model"
   ]
  },
  {
   "cell_type": "code",
   "execution_count": 46,
   "id": "96c3b168-79a4-4842-9bbb-8959e8cb50b2",
   "metadata": {
    "tags": []
   },
   "outputs": [
    {
     "name": "stdout",
     "output_type": "stream",
     "text": [
      "INFO:tensorflow:Reloading Tuner from ./keras_tuner_new/sequential_hyper_params/tuner0.json\n"
     ]
    }
   ],
   "source": [
    "hyper_tuner = RandomSearch(\n",
    "    build_model,\n",
    "    objective=Objective(\"val_auc\", direction=\"max\"), # Pontentially change this into a weighted sum of auc and f1\n",
    "    max_trials=10,\n",
    "    executions_per_trial=10,\n",
    "    directory=\"./keras_tuner_new\",\n",
    "    project_name=\"sequential_hyper_params\")"
   ]
  },
  {
   "cell_type": "code",
   "execution_count": 47,
   "id": "ee364ae5-c1c5-43ea-bb1b-290ee025a59d",
   "metadata": {
    "tags": []
   },
   "outputs": [
    {
     "name": "stdout",
     "output_type": "stream",
     "text": [
      "Search space summary\n",
      "Default search space size: 14\n",
      "conv_1_filter (Int)\n",
      "{'default': None, 'conditions': [], 'min_value': 16, 'max_value': 64, 'step': 16, 'sampling': 'linear'}\n",
      "conv_1_kernel (Choice)\n",
      "{'default': 3, 'conditions': [], 'values': [3, 5], 'ordered': True}\n",
      "pool_1_size (Int)\n",
      "{'default': None, 'conditions': [], 'min_value': 2, 'max_value': 4, 'step': 1, 'sampling': 'linear'}\n",
      "conv_2_filter (Int)\n",
      "{'default': None, 'conditions': [], 'min_value': 32, 'max_value': 64, 'step': 16, 'sampling': 'linear'}\n",
      "conv_2_kernel (Choice)\n",
      "{'default': 3, 'conditions': [], 'values': [3, 5], 'ordered': True}\n",
      "pool_2_size (Int)\n",
      "{'default': None, 'conditions': [], 'min_value': 2, 'max_value': 4, 'step': 1, 'sampling': 'linear'}\n",
      "conv_3_filter (Int)\n",
      "{'default': None, 'conditions': [], 'min_value': 64, 'max_value': 128, 'step': 32, 'sampling': 'linear'}\n",
      "conv_3_kernel (Choice)\n",
      "{'default': 3, 'conditions': [], 'values': [3, 5], 'ordered': True}\n",
      "pool_3_size (Int)\n",
      "{'default': None, 'conditions': [], 'min_value': 2, 'max_value': 4, 'step': 1, 'sampling': 'linear'}\n",
      "dense_1_units (Int)\n",
      "{'default': None, 'conditions': [], 'min_value': 64, 'max_value': 256, 'step': 64, 'sampling': 'linear'}\n",
      "dropout_1_rate (Float)\n",
      "{'default': 0.1, 'conditions': [], 'min_value': 0.1, 'max_value': 0.5, 'step': 0.1, 'sampling': 'linear'}\n",
      "dense_2_units (Int)\n",
      "{'default': None, 'conditions': [], 'min_value': 64, 'max_value': 128, 'step': 32, 'sampling': 'linear'}\n",
      "dropout_2_rate (Float)\n",
      "{'default': 0.1, 'conditions': [], 'min_value': 0.1, 'max_value': 0.5, 'step': 0.1, 'sampling': 'linear'}\n",
      "learning_rate (Choice)\n",
      "{'default': 0.01, 'conditions': [], 'values': [0.01, 0.001, 0.0001], 'ordered': True}\n"
     ]
    }
   ],
   "source": [
    "hyper_tuner.search_space_summary()"
   ]
  },
  {
   "cell_type": "code",
   "execution_count": 48,
   "id": "9f201031-2afe-4234-b1a8-343f934a4d6a",
   "metadata": {
    "tags": []
   },
   "outputs": [
    {
     "name": "stdout",
     "output_type": "stream",
     "text": [
      "INFO:tensorflow:Oracle triggered exit\n"
     ]
    }
   ],
   "source": [
    "# Search for Hyper-Params\n",
    "hyper_epochs = 20\n",
    "\n",
    "hyper_train_generator = train_data_generator.flow(np.array(train_images), np.array(train_labels), batch_size=KERAS_BATCH_SIZE)\n",
    "\n",
    "hyper_tuner.search(hyper_train_generator, epochs=hyper_epochs, validation_data=(np.array(validation_images), np.array(validation_labels)), callbacks=[early_stopping])"
   ]
  },
  {
   "cell_type": "code",
   "execution_count": 49,
   "id": "3a975828-cf7e-4ca3-9902-259f08bf6679",
   "metadata": {
    "tags": []
   },
   "outputs": [],
   "source": [
    "best_hyper_model = hyper_tuner.get_best_models(num_models=1)[0]\n",
    "best_hyper_parameters = hyper_tuner.get_best_hyperparameters(num_trials=1)[0]"
   ]
  },
  {
   "cell_type": "code",
   "execution_count": 50,
   "id": "4b86cf1f-e539-416d-a9bb-59ac3a89ec24",
   "metadata": {
    "tags": []
   },
   "outputs": [
    {
     "name": "stdout",
     "output_type": "stream",
     "text": [
      "Best Hyper Parameters for the Keras Sequential model:\n",
      "conv_1_filter\t: 48\n",
      "conv_1_kernel\t: 3\n",
      "pool_1_size\t: 2\n",
      "conv_2_filter\t: 64\n",
      "conv_2_kernel\t: 3\n",
      "pool_2_size\t: 4\n",
      "conv_3_filter\t: 64\n",
      "conv_3_kernel\t: 3\n",
      "pool_3_size\t: 2\n",
      "dense_1_units\t: 256\n",
      "dropout_1_rate\t: 0.5\n",
      "dense_2_units\t: 128\n",
      "dropout_2_rate\t: 0.30000000000000004\n",
      "learning_rate\t: 0.0001\n"
     ]
    }
   ],
   "source": [
    "print(\"Best Hyper Parameters for the Keras Sequential model:\")\n",
    "for k, v in best_hyper_parameters.values.items():\n",
    "    print(f\"{k}\\t: {v}\")"
   ]
  },
  {
   "cell_type": "code",
   "execution_count": 51,
   "id": "46021bfa-fcdc-4779-9dd8-446356c92128",
   "metadata": {
    "tags": []
   },
   "outputs": [
    {
     "name": "stdout",
     "output_type": "stream",
     "text": [
      "8/8 [==============================] - 0s 15ms/step\n"
     ]
    }
   ],
   "source": [
    "# Make predictions using the adjusted model using the testing dataset\n",
    "best_hyper_model_predictions = best_hyper_model.predict(np.array(test_images))\n",
    "best_hyper_model_prediction_labels = np.round(best_hyper_model_predictions)"
   ]
  },
  {
   "cell_type": "code",
   "execution_count": 52,
   "id": "2ab5a363-4c56-464d-9e8e-6a153ce5a473",
   "metadata": {
    "tags": []
   },
   "outputs": [
    {
     "data": {
      "image/png": "[encoded data removed]",
      "text/plain": [
       "<Figure size 600x600 with 1 Axes>"
      ]
     },
     "metadata": {},
     "output_type": "display_data"
    }
   ],
   "source": [
    "# Confusion Matrix\n",
    "print_confusion_matrix(test_labels, best_hyper_model_prediction_labels)"
   ]
  },
  {
   "cell_type": "code",
   "execution_count": 53,
   "id": "5b6c2fdb-022d-4ece-97ac-daa10db087ac",
   "metadata": {
    "tags": []
   },
   "outputs": [
    {
     "name": "stdout",
     "output_type": "stream",
     "text": [
      "              precision    recall  f1-score   support\n",
      "\n",
      "           0       0.74      0.63      0.68       115\n",
      "           1       0.68      0.77      0.72       115\n",
      "\n",
      "    accuracy                           0.70       230\n",
      "   macro avg       0.71      0.70      0.70       230\n",
      "weighted avg       0.71      0.70      0.70       230\n",
      "\n"
     ]
    }
   ],
   "source": [
    "# Classification report\n",
    "best_hyper_classification_report = classification_report(test_labels, best_hyper_model_prediction_labels)\n",
    "print(best_hyper_classification_report)"
   ]
  },
  {
   "cell_type": "code",
   "execution_count": 54,
   "id": "f085460d-d519-412c-88da-ee90a77297d2",
   "metadata": {
    "tags": []
   },
   "outputs": [],
   "source": [
    "# TODO: Save the model"
   ]
  },
  {
   "cell_type": "markdown",
   "id": "604e8136-0fed-4cc5-ad21-91242e4d8b35",
   "metadata": {
    "tags": []
   },
   "source": [
    "# VGG16 Model"
   ]
  },
  {
   "cell_type": "code",
   "execution_count": 55,
   "id": "9e94011a-c3cd-4a49-ac98-82096f9cb461",
   "metadata": {
    "tags": []
   },
   "outputs": [],
   "source": [
    "def crop_centre(image, target_width, target_height):\n",
    "    whole_height, whole_width, _ = image.shape\n",
    "\n",
    "    x_start = (whole_width // 2) - (target_width // 2)\n",
    "    x_end = x_start + target_width\n",
    "\n",
    "    y_start = (whole_height // 2) - (target_height // 2)\n",
    "    y_end = y_start + target_height\n",
    "\n",
    "    return image[y_start:y_end, x_start:x_end]"
   ]
  },
  {
   "cell_type": "code",
   "execution_count": 56,
   "id": "07c6319a-4801-49c7-8a86-dd3bfedc0ada",
   "metadata": {
    "tags": []
   },
   "outputs": [],
   "source": [
    "def load_vgg_images(df):  \n",
    "    temp_images = []\n",
    "    \n",
    "    for index, row in df.iterrows():\n",
    "        image_name = row[IMAGE_FILENAME_COLUMN]\n",
    "        temp_image = image.load_img(os.path.join(IMAGE_PATH, image_name), color_mode=\"rgb\")\n",
    "        temp_image = np.array(temp_image)\n",
    "        # Crop out the centre 224 by 224 of the image and use that, as those dimensions are what the model was initially trained on\n",
    "        cropped_middle = crop_centre(temp_image, 224, 224)\n",
    "\n",
    "        temp_images.append(cropped_middle)\n",
    "    \n",
    "    return temp_images"
   ]
  },
  {
   "cell_type": "code",
   "execution_count": 57,
   "id": "f523d321-93d2-4c67-9ab2-16308f342b6d",
   "metadata": {
    "tags": []
   },
   "outputs": [
    {
     "name": "stdout",
     "output_type": "stream",
     "text": [
      "Downloading data from https://storage.googleapis.com/tensorflow/keras-applications/vgg16/vgg16_weights_tf_dim_ordering_tf_kernels_notop.h5\n",
      "58889256/58889256 [==============================] - 8s 0us/step\n"
     ]
    }
   ],
   "source": [
    "# Create the initial model\n",
    "vgg_model_base = VGG16(weights=\"imagenet\", include_top=False, input_shape=(224, 224, 3))"
   ]
  },
  {
   "cell_type": "code",
   "execution_count": 58,
   "id": "25ce9df8-4135-42c5-836b-2f032d310717",
   "metadata": {
    "tags": []
   },
   "outputs": [],
   "source": [
    "# Custom layers to perform binary classification\n",
    "x = vgg_model_base.output\n",
    "x = GlobalAveragePooling2D()(x)\n",
    "x = Dense(512, activation=\"relu\")(x) # I think this is used to train new connections based on the images we now provide\n",
    "vgg_output = Dense(1, activation=\"sigmoid\")(x)"
   ]
  },
  {
   "cell_type": "code",
   "execution_count": 59,
   "id": "bb70119f-0368-4874-acbe-dca571ab8c8c",
   "metadata": {
    "tags": []
   },
   "outputs": [],
   "source": [
    "vgg_model = Model(inputs=vgg_model_base.input, outputs=vgg_output)\n",
    "\n",
    "# Temporarily unfreeze\n",
    "for layer in vgg_model_base.layers:\n",
    "    layer.trainable = False"
   ]
  },
  {
   "cell_type": "code",
   "execution_count": 60,
   "id": "2e5a6ba4-1374-4bf9-8482-18c2e33b6e8b",
   "metadata": {
    "tags": []
   },
   "outputs": [],
   "source": [
    "vgg_model.compile(optimizer=Adam(), loss=\"binary_crossentropy\", metrics=[tf.keras.metrics.AUC()])"
   ]
  },
  {
   "cell_type": "code",
   "execution_count": 61,
   "id": "4197f2d1-3e65-4825-923c-5243eeaeb5c5",
   "metadata": {
    "tags": []
   },
   "outputs": [],
   "source": [
    "vgg_train_images = load_vgg_images(train_df)\n",
    "vgg_validation_images = load_vgg_images(validate_df)\n",
    "vgg_test_images = load_vgg_images(test_df)"
   ]
  },
  {
   "cell_type": "code",
   "execution_count": 62,
   "id": "ae65ece5-806e-4d06-96e1-60d9706ee9c0",
   "metadata": {
    "tags": []
   },
   "outputs": [
    {
     "name": "stdout",
     "output_type": "stream",
     "text": [
      "Epoch 1/10\n"
     ]
    },
    {
     "name": "stderr",
     "output_type": "stream",
     "text": [
      "2023-04-15 05:01:29.731289: W tensorflow/core/common_runtime/bfc_allocator.cc:290] Allocator (GPU_0_bfc) ran out of memory trying to allocate 1.74GiB with freed_by_count=0. The caller indicates that this is not a failure, but this may mean that there could be performance gains if more memory were available.\n",
      "2023-04-15 05:01:29.733586: W tensorflow/core/common_runtime/bfc_allocator.cc:290] Allocator (GPU_0_bfc) ran out of memory trying to allocate 2.54GiB with freed_by_count=0. The caller indicates that this is not a failure, but this may mean that there could be performance gains if more memory were available.\n",
      "2023-04-15 05:01:30.079342: W tensorflow/core/common_runtime/bfc_allocator.cc:290] Allocator (GPU_0_bfc) ran out of memory trying to allocate 2.30GiB with freed_by_count=0. The caller indicates that this is not a failure, but this may mean that there could be performance gains if more memory were available.\n",
      "2023-04-15 05:01:30.287722: W tensorflow/core/common_runtime/bfc_allocator.cc:290] Allocator (GPU_0_bfc) ran out of memory trying to allocate 2.21GiB with freed_by_count=0. The caller indicates that this is not a failure, but this may mean that there could be performance gains if more memory were available.\n",
      "2023-04-15 05:01:30.486853: W tensorflow/core/common_runtime/bfc_allocator.cc:290] Allocator (GPU_0_bfc) ran out of memory trying to allocate 2.22GiB with freed_by_count=0. The caller indicates that this is not a failure, but this may mean that there could be performance gains if more memory were available.\n"
     ]
    },
    {
     "name": "stdout",
     "output_type": "stream",
     "text": [
      "37/44 [========================>.....] - ETA: 0s - loss: 0.9469 - auc_1: 0.5893"
     ]
    },
    {
     "name": "stderr",
     "output_type": "stream",
     "text": [
      "2023-04-15 05:01:36.568502: W tensorflow/core/common_runtime/bfc_allocator.cc:290] Allocator (GPU_0_bfc) ran out of memory trying to allocate 2.09GiB with freed_by_count=0. The caller indicates that this is not a failure, but this may mean that there could be performance gains if more memory were available.\n",
      "2023-04-15 05:01:36.681771: W tensorflow/core/common_runtime/bfc_allocator.cc:290] Allocator (GPU_0_bfc) ran out of memory trying to allocate 2.08GiB with freed_by_count=0. The caller indicates that this is not a failure, but this may mean that there could be performance gains if more memory were available.\n",
      "2023-04-15 05:01:36.771892: W tensorflow/core/common_runtime/bfc_allocator.cc:290] Allocator (GPU_0_bfc) ran out of memory trying to allocate 2.10GiB with freed_by_count=0. The caller indicates that this is not a failure, but this may mean that there could be performance gains if more memory were available.\n",
      "2023-04-15 05:01:36.902357: W tensorflow/core/common_runtime/bfc_allocator.cc:290] Allocator (GPU_0_bfc) ran out of memory trying to allocate 2.16GiB with freed_by_count=0. The caller indicates that this is not a failure, but this may mean that there could be performance gains if more memory were available.\n"
     ]
    },
    {
     "name": "stdout",
     "output_type": "stream",
     "text": [
      "44/44 [==============================] - ETA: 0s - loss: 0.8950 - auc_1: 0.6185"
     ]
    },
    {
     "name": "stderr",
     "output_type": "stream",
     "text": [
      "2023-04-15 05:01:38.920803: W tensorflow/core/common_runtime/bfc_allocator.cc:290] Allocator (GPU_0_bfc) ran out of memory trying to allocate 3.46GiB with freed_by_count=0. The caller indicates that this is not a failure, but this may mean that there could be performance gains if more memory were available.\n"
     ]
    },
    {
     "name": "stdout",
     "output_type": "stream",
     "text": [
      "44/44 [==============================] - 15s 253ms/step - loss: 0.8950 - auc_1: 0.6185 - val_loss: 0.7697 - val_auc_1: 0.7120\n",
      "Epoch 2/10\n",
      "44/44 [==============================] - 8s 183ms/step - loss: 0.6923 - auc_1: 0.7123 - val_loss: 0.6703 - val_auc_1: 0.7185\n",
      "Epoch 3/10\n",
      "44/44 [==============================] - 8s 180ms/step - loss: 0.6371 - auc_1: 0.7438 - val_loss: 0.6680 - val_auc_1: 0.7183\n",
      "Epoch 4/10\n",
      "44/44 [==============================] - 9s 208ms/step - loss: 0.6819 - auc_1: 0.7339 - val_loss: 0.7569 - val_auc_1: 0.6988\n",
      "Epoch 5/10\n",
      "44/44 [==============================] - 7s 156ms/step - loss: 0.5580 - auc_1: 0.8014 - val_loss: 0.6901 - val_auc_1: 0.7049\n",
      "Epoch 6/10\n",
      "44/44 [==============================] - 7s 148ms/step - loss: 0.5129 - auc_1: 0.8198 - val_loss: 0.7266 - val_auc_1: 0.7226\n",
      "Epoch 7/10\n",
      "44/44 [==============================] - 6s 135ms/step - loss: 0.5783 - auc_1: 0.8008 - val_loss: 0.8303 - val_auc_1: 0.7268\n",
      "Epoch 8/10\n",
      "44/44 [==============================] - ETA: 0s - loss: 0.4926 - auc_1: 0.8390Restoring model weights from the end of the best epoch: 3.\n",
      "44/44 [==============================] - 6s 137ms/step - loss: 0.4926 - auc_1: 0.8390 - val_loss: 0.7153 - val_auc_1: 0.7211\n",
      "Epoch 8: early stopping\n"
     ]
    }
   ],
   "source": [
    "# Train the VGG model on the new dataset briefly.\n",
    "vgg_epochs = 10\n",
    "\n",
    "vgg_train_generator = train_data_generator.flow(np.array(vgg_train_images), np.array(train_labels), batch_size=KERAS_BATCH_SIZE)\n",
    "\n",
    "vgg_history = vgg_model.fit(vgg_train_generator, validation_data=(np.array(vgg_validation_images), np.array(validation_labels)), epochs=vgg_epochs, callbacks=[early_stopping])"
   ]
  },
  {
   "cell_type": "markdown",
   "id": "bb62c1c6-19fd-4f8a-abd0-ebd1836b36a8",
   "metadata": {},
   "source": [
    "## VGG16 Model Predictions"
   ]
  },
  {
   "cell_type": "code",
   "execution_count": 63,
   "id": "d0257b13-faa7-4d46-9893-85ec47c54724",
   "metadata": {
    "tags": []
   },
   "outputs": [
    {
     "name": "stdout",
     "output_type": "stream",
     "text": [
      "8/8 [==============================] - 1s 140ms/step\n"
     ]
    }
   ],
   "source": [
    "vgg_predictions = vgg_model.predict(np.array(vgg_test_images))\n",
    "vgg_prediction_labels = np.round(vgg_predictions)"
   ]
  },
  {
   "cell_type": "code",
   "execution_count": 64,
   "id": "e19157e2-feea-45d7-a79a-f09178f8d770",
   "metadata": {
    "tags": []
   },
   "outputs": [
    {
     "data": {
      "image/png": "[encoded data removed]",
      "text/plain": [
       "<Figure size 600x600 with 1 Axes>"
      ]
     },
     "metadata": {},
     "output_type": "display_data"
    }
   ],
   "source": [
    "# Confusion Matrix\n",
    "print_confusion_matrix(test_labels, vgg_prediction_labels)"
   ]
  },
  {
   "cell_type": "code",
   "execution_count": 65,
   "id": "be822e46-4b3f-43ee-883c-6edda0d1dcca",
   "metadata": {
    "tags": []
   },
   "outputs": [
    {
     "name": "stdout",
     "output_type": "stream",
     "text": [
      "              precision    recall  f1-score   support\n",
      "\n",
      "           0       0.66      0.70      0.68       115\n",
      "           1       0.68      0.63      0.66       115\n",
      "\n",
      "    accuracy                           0.67       230\n",
      "   macro avg       0.67      0.67      0.67       230\n",
      "weighted avg       0.67      0.67      0.67       230\n",
      "\n"
     ]
    }
   ],
   "source": [
    "# Classification report\n",
    "vgg_classification_report = classification_report(test_labels, vgg_prediction_labels)\n",
    "print(vgg_classification_report)"
   ]
  },
  {
   "cell_type": "markdown",
   "id": "46b45e5a-45ec-4cec-bc5b-f0bdb0a785bb",
   "metadata": {},
   "source": [
    "## AUC-ROC Scores For All Models"
   ]
  },
  {
   "cell_type": "code",
   "execution_count": 66,
   "id": "cc612b26-96aa-4641-802b-996093bf3d28",
   "metadata": {
    "tags": []
   },
   "outputs": [
    {
     "name": "stdout",
     "output_type": "stream",
     "text": [
      "AUC-ROC Score for Initial Model: 0.6217391304347826\n",
      "AUC-ROC Score for Adjusted Model: 0.7304347826086957\n",
      "AUC-ROC Score for the Best Hyper-Parameters Model: 0.7043478260869565\n",
      "AUC-ROC Score for VGG16 Model: 0.6695652173913043\n"
     ]
    }
   ],
   "source": [
    "initial_auc_roc = roc_auc_score(test_labels, initial_model_prediction_labels)\n",
    "print(\"AUC-ROC Score for Initial Model:\", initial_auc_roc)\n",
    "\n",
    "adjusted_auc_roc = roc_auc_score(test_labels, adjusted_model_prediction_labels)\n",
    "print(\"AUC-ROC Score for Adjusted Model:\", adjusted_auc_roc)\n",
    "\n",
    "best_hyper_param_auc_roc = roc_auc_score(test_labels, best_hyper_model_prediction_labels)\n",
    "print(\"AUC-ROC Score for the Best Hyper-Parameters Model:\", best_hyper_param_auc_roc)\n",
    "\n",
    "vgg_auc_roc = roc_auc_score(test_labels, vgg_prediction_labels)\n",
    "print(\"AUC-ROC Score for VGG16 Model:\", vgg_auc_roc)"
   ]
  },
  {
   "cell_type": "code",
   "execution_count": null,
   "id": "4f3e76c5-bb94-45d9-873a-3972316999ca",
   "metadata": {},
   "outputs": [],
   "source": []
  }
 ],
 "metadata": {
  "kernelspec": {
   "display_name": "Python 3 (ipykernel)",
   "language": "python",
   "name": "python3"
  },
  "language_info": {
   "codemirror_mode": {
    "name": "ipython",
    "version": 3
   },
   "file_extension": ".py",
   "mimetype": "text/x-python",
   "name": "python",
   "nbconvert_exporter": "python",
   "pygments_lexer": "ipython3",
   "version": "3.10.10"
  }
 },
 "nbformat": 4,
 "nbformat_minor": 5
}
